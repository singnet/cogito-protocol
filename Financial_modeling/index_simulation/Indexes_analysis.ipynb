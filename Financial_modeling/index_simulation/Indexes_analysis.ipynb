{
 "cells": [
  {
   "cell_type": "code",
   "execution_count": 1,
   "id": "b491e94a",
   "metadata": {},
   "outputs": [],
   "source": [
    "import pandas as pd\n",
    "import numpy as np\n",
    "from fitter import Fitter\n",
    "from scipy.stats import *\n",
    "import matplotlib.pyplot as plt\n",
    "import scipy.stats as stats    \n"
   ]
  },
  {
   "cell_type": "code",
   "execution_count": 2,
   "id": "38cc6520",
   "metadata": {},
   "outputs": [
    {
     "name": "stdout",
     "output_type": "stream",
     "text": [
      "[0.76022328]\n",
      "[0.16086471]\n",
      "[0.57942501]\n"
     ]
    }
   ],
   "source": [
    "import json\n",
    "import numpy as np\n",
    "import my_rand_lib as mr\n",
    "\n",
    "\n",
    "fpath = './rand_seed_file'\n",
    "with open(fpath,'r+') as f:\n",
    "    results2 = json.load(f)\n",
    "\n",
    "rand_seed = mr.get_numpy_seed(results2)\n",
    "np.random.set_state(rand_seed)\n",
    "\n",
    "print (np.random.rand(1))\n",
    "print (np.random.rand(1))\n",
    "print (np.random.rand(1))"
   ]
  },
  {
   "cell_type": "markdown",
   "id": "c876d1a7",
   "metadata": {},
   "source": [
    "Methodological explanation: Some of the index components were interpolated, some exterpolated. Up to 2016 I used interpolated numbers, after that extrapolated numbers. This is the data I got from Adriano's repository."
   ]
  },
  {
   "cell_type": "code",
   "execution_count": 3,
   "id": "5f464a4c",
   "metadata": {
    "scrolled": true
   },
   "outputs": [
    {
     "data": {
      "text/html": [
       "<div>\n",
       "<style scoped>\n",
       "    .dataframe tbody tr th:only-of-type {\n",
       "        vertical-align: middle;\n",
       "    }\n",
       "\n",
       "    .dataframe tbody tr th {\n",
       "        vertical-align: top;\n",
       "    }\n",
       "\n",
       "    .dataframe thead th {\n",
       "        text-align: right;\n",
       "    }\n",
       "</style>\n",
       "<table border=\"1\" class=\"dataframe\">\n",
       "  <thead>\n",
       "    <tr style=\"text-align: right;\">\n",
       "      <th></th>\n",
       "      <th>Value</th>\n",
       "    </tr>\n",
       "    <tr>\n",
       "      <th>Date</th>\n",
       "      <th></th>\n",
       "    </tr>\n",
       "  </thead>\n",
       "  <tbody>\n",
       "    <tr>\n",
       "      <th>1981</th>\n",
       "      <td>0.928587</td>\n",
       "    </tr>\n",
       "    <tr>\n",
       "      <th>1982</th>\n",
       "      <td>1.005902</td>\n",
       "    </tr>\n",
       "    <tr>\n",
       "      <th>1983</th>\n",
       "      <td>0.942771</td>\n",
       "    </tr>\n",
       "    <tr>\n",
       "      <th>1984</th>\n",
       "      <td>0.947301</td>\n",
       "    </tr>\n",
       "    <tr>\n",
       "      <th>1985</th>\n",
       "      <td>0.942701</td>\n",
       "    </tr>\n",
       "    <tr>\n",
       "      <th>1986</th>\n",
       "      <td>1.023383</td>\n",
       "    </tr>\n",
       "    <tr>\n",
       "      <th>1987</th>\n",
       "      <td>1.022825</td>\n",
       "    </tr>\n",
       "    <tr>\n",
       "      <th>1988</th>\n",
       "      <td>0.986488</td>\n",
       "    </tr>\n",
       "    <tr>\n",
       "      <th>1989</th>\n",
       "      <td>0.971993</td>\n",
       "    </tr>\n",
       "    <tr>\n",
       "      <th>1990</th>\n",
       "      <td>1.005107</td>\n",
       "    </tr>\n",
       "    <tr>\n",
       "      <th>1991</th>\n",
       "      <td>1.036678</td>\n",
       "    </tr>\n",
       "    <tr>\n",
       "      <th>1992</th>\n",
       "      <td>1.063897</td>\n",
       "    </tr>\n",
       "    <tr>\n",
       "      <th>1993</th>\n",
       "      <td>1.099159</td>\n",
       "    </tr>\n",
       "    <tr>\n",
       "      <th>1994</th>\n",
       "      <td>1.123262</td>\n",
       "    </tr>\n",
       "    <tr>\n",
       "      <th>1995</th>\n",
       "      <td>1.085874</td>\n",
       "    </tr>\n",
       "    <tr>\n",
       "      <th>1996</th>\n",
       "      <td>1.062359</td>\n",
       "    </tr>\n",
       "    <tr>\n",
       "      <th>1997</th>\n",
       "      <td>1.082734</td>\n",
       "    </tr>\n",
       "    <tr>\n",
       "      <th>1998</th>\n",
       "      <td>1.138844</td>\n",
       "    </tr>\n",
       "    <tr>\n",
       "      <th>1999</th>\n",
       "      <td>1.122043</td>\n",
       "    </tr>\n",
       "    <tr>\n",
       "      <th>2000</th>\n",
       "      <td>1.043572</td>\n",
       "    </tr>\n",
       "    <tr>\n",
       "      <th>2001</th>\n",
       "      <td>1.036701</td>\n",
       "    </tr>\n",
       "    <tr>\n",
       "      <th>2002</th>\n",
       "      <td>1.053648</td>\n",
       "    </tr>\n",
       "    <tr>\n",
       "      <th>2003</th>\n",
       "      <td>1.057768</td>\n",
       "    </tr>\n",
       "    <tr>\n",
       "      <th>2004</th>\n",
       "      <td>0.993986</td>\n",
       "    </tr>\n",
       "    <tr>\n",
       "      <th>2005</th>\n",
       "      <td>0.985778</td>\n",
       "    </tr>\n",
       "    <tr>\n",
       "      <th>2006</th>\n",
       "      <td>0.990101</td>\n",
       "    </tr>\n",
       "    <tr>\n",
       "      <th>2007</th>\n",
       "      <td>0.985851</td>\n",
       "    </tr>\n",
       "    <tr>\n",
       "      <th>2008</th>\n",
       "      <td>1.019279</td>\n",
       "    </tr>\n",
       "    <tr>\n",
       "      <th>2009</th>\n",
       "      <td>1.042952</td>\n",
       "    </tr>\n",
       "    <tr>\n",
       "      <th>2010</th>\n",
       "      <td>1.069697</td>\n",
       "    </tr>\n",
       "    <tr>\n",
       "      <th>2011</th>\n",
       "      <td>1.089700</td>\n",
       "    </tr>\n",
       "    <tr>\n",
       "      <th>2012</th>\n",
       "      <td>1.100750</td>\n",
       "    </tr>\n",
       "    <tr>\n",
       "      <th>2013</th>\n",
       "      <td>1.176392</td>\n",
       "    </tr>\n",
       "    <tr>\n",
       "      <th>2014</th>\n",
       "      <td>1.238797</td>\n",
       "    </tr>\n",
       "    <tr>\n",
       "      <th>2015</th>\n",
       "      <td>1.269890</td>\n",
       "    </tr>\n",
       "    <tr>\n",
       "      <th>2016</th>\n",
       "      <td>1.300983</td>\n",
       "    </tr>\n",
       "    <tr>\n",
       "      <th>2017</th>\n",
       "      <td>1.332076</td>\n",
       "    </tr>\n",
       "    <tr>\n",
       "      <th>2018</th>\n",
       "      <td>1.363169</td>\n",
       "    </tr>\n",
       "    <tr>\n",
       "      <th>2019</th>\n",
       "      <td>1.394263</td>\n",
       "    </tr>\n",
       "    <tr>\n",
       "      <th>2020</th>\n",
       "      <td>1.425356</td>\n",
       "    </tr>\n",
       "  </tbody>\n",
       "</table>\n",
       "</div>"
      ],
      "text/plain": [
       "         Value\n",
       "Date          \n",
       "1981  0.928587\n",
       "1982  1.005902\n",
       "1983  0.942771\n",
       "1984  0.947301\n",
       "1985  0.942701\n",
       "1986  1.023383\n",
       "1987  1.022825\n",
       "1988  0.986488\n",
       "1989  0.971993\n",
       "1990  1.005107\n",
       "1991  1.036678\n",
       "1992  1.063897\n",
       "1993  1.099159\n",
       "1994  1.123262\n",
       "1995  1.085874\n",
       "1996  1.062359\n",
       "1997  1.082734\n",
       "1998  1.138844\n",
       "1999  1.122043\n",
       "2000  1.043572\n",
       "2001  1.036701\n",
       "2002  1.053648\n",
       "2003  1.057768\n",
       "2004  0.993986\n",
       "2005  0.985778\n",
       "2006  0.990101\n",
       "2007  0.985851\n",
       "2008  1.019279\n",
       "2009  1.042952\n",
       "2010  1.069697\n",
       "2011  1.089700\n",
       "2012  1.100750\n",
       "2013  1.176392\n",
       "2014  1.238797\n",
       "2015  1.269890\n",
       "2016  1.300983\n",
       "2017  1.332076\n",
       "2018  1.363169\n",
       "2019  1.394263\n",
       "2020  1.425356"
      ]
     },
     "execution_count": 3,
     "metadata": {},
     "output_type": "execute_result"
    }
   ],
   "source": [
    "data = pd.read_csv(\"green_coin.csv\", index_col=0)\n",
    "data"
   ]
  },
  {
   "cell_type": "code",
   "execution_count": 4,
   "id": "86458af4",
   "metadata": {
    "scrolled": true
   },
   "outputs": [
    {
     "data": {
      "text/plain": [
       "0.12721378336512046"
      ]
     },
     "execution_count": 4,
     "metadata": {},
     "output_type": "execute_result"
    }
   ],
   "source": [
    "our_std = np.std(data[\"Value\"])/2  ### Divided by two because they will sum back up.\n",
    "### Actually, we are just adding new deviation on top of the previous one. So in the end, we might divide it by 4.\n",
    "### It will be too high anyway, but that's alright because we want to be cautious.\n",
    "np.std(data[\"Value\"])"
   ]
  },
  {
   "cell_type": "code",
   "execution_count": 5,
   "id": "969f9ca0",
   "metadata": {},
   "outputs": [
    {
     "data": {
      "text/plain": [
       "1.089065382675"
      ]
     },
     "execution_count": 5,
     "metadata": {},
     "output_type": "execute_result"
    }
   ],
   "source": [
    "np.mean(data[\"Value\"])"
   ]
  },
  {
   "cell_type": "code",
   "execution_count": 6,
   "id": "40842d31",
   "metadata": {},
   "outputs": [],
   "source": [
    "### We assume that within a year (for the past values only), \n",
    "### the changes of values of data follow a normal distrubiton on quarterly basis.\n",
    "### Mean will be (value_year - value_[year-1])/4 and std the general std of quarters times 1.25 (just to be cautios)\n",
    "### So, when looking at the data, we will now go to "
   ]
  },
  {
   "cell_type": "code",
   "execution_count": 7,
   "id": "7a1f6913",
   "metadata": {
    "scrolled": true
   },
   "outputs": [
    {
     "data": {
      "text/html": [
       "<div>\n",
       "<style scoped>\n",
       "    .dataframe tbody tr th:only-of-type {\n",
       "        vertical-align: middle;\n",
       "    }\n",
       "\n",
       "    .dataframe tbody tr th {\n",
       "        vertical-align: top;\n",
       "    }\n",
       "\n",
       "    .dataframe thead th {\n",
       "        text-align: right;\n",
       "    }\n",
       "</style>\n",
       "<table border=\"1\" class=\"dataframe\">\n",
       "  <thead>\n",
       "    <tr style=\"text-align: right;\">\n",
       "      <th></th>\n",
       "      <th>Value</th>\n",
       "      <th>year_change</th>\n",
       "    </tr>\n",
       "    <tr>\n",
       "      <th>Date</th>\n",
       "      <th></th>\n",
       "      <th></th>\n",
       "    </tr>\n",
       "  </thead>\n",
       "  <tbody>\n",
       "    <tr>\n",
       "      <th>1981</th>\n",
       "      <td>0.928587</td>\n",
       "      <td>NaN</td>\n",
       "    </tr>\n",
       "    <tr>\n",
       "      <th>1982</th>\n",
       "      <td>1.005902</td>\n",
       "      <td>0.076861</td>\n",
       "    </tr>\n",
       "    <tr>\n",
       "      <th>1983</th>\n",
       "      <td>0.942771</td>\n",
       "      <td>-0.066963</td>\n",
       "    </tr>\n",
       "    <tr>\n",
       "      <th>1984</th>\n",
       "      <td>0.947301</td>\n",
       "      <td>0.004782</td>\n",
       "    </tr>\n",
       "    <tr>\n",
       "      <th>1985</th>\n",
       "      <td>0.942701</td>\n",
       "      <td>-0.004879</td>\n",
       "    </tr>\n",
       "    <tr>\n",
       "      <th>1986</th>\n",
       "      <td>1.023383</td>\n",
       "      <td>0.078838</td>\n",
       "    </tr>\n",
       "    <tr>\n",
       "      <th>1987</th>\n",
       "      <td>1.022825</td>\n",
       "      <td>-0.000545</td>\n",
       "    </tr>\n",
       "    <tr>\n",
       "      <th>1988</th>\n",
       "      <td>0.986488</td>\n",
       "      <td>-0.036835</td>\n",
       "    </tr>\n",
       "    <tr>\n",
       "      <th>1989</th>\n",
       "      <td>0.971993</td>\n",
       "      <td>-0.014913</td>\n",
       "    </tr>\n",
       "    <tr>\n",
       "      <th>1990</th>\n",
       "      <td>1.005107</td>\n",
       "      <td>0.032946</td>\n",
       "    </tr>\n",
       "    <tr>\n",
       "      <th>1991</th>\n",
       "      <td>1.036678</td>\n",
       "      <td>0.030454</td>\n",
       "    </tr>\n",
       "    <tr>\n",
       "      <th>1992</th>\n",
       "      <td>1.063897</td>\n",
       "      <td>0.025585</td>\n",
       "    </tr>\n",
       "    <tr>\n",
       "      <th>1993</th>\n",
       "      <td>1.099159</td>\n",
       "      <td>0.032081</td>\n",
       "    </tr>\n",
       "    <tr>\n",
       "      <th>1994</th>\n",
       "      <td>1.123262</td>\n",
       "      <td>0.021458</td>\n",
       "    </tr>\n",
       "    <tr>\n",
       "      <th>1995</th>\n",
       "      <td>1.085874</td>\n",
       "      <td>-0.034432</td>\n",
       "    </tr>\n",
       "    <tr>\n",
       "      <th>1996</th>\n",
       "      <td>1.062359</td>\n",
       "      <td>-0.022135</td>\n",
       "    </tr>\n",
       "    <tr>\n",
       "      <th>1997</th>\n",
       "      <td>1.082734</td>\n",
       "      <td>0.018818</td>\n",
       "    </tr>\n",
       "    <tr>\n",
       "      <th>1998</th>\n",
       "      <td>1.138844</td>\n",
       "      <td>0.049270</td>\n",
       "    </tr>\n",
       "    <tr>\n",
       "      <th>1999</th>\n",
       "      <td>1.122043</td>\n",
       "      <td>-0.014974</td>\n",
       "    </tr>\n",
       "    <tr>\n",
       "      <th>2000</th>\n",
       "      <td>1.043572</td>\n",
       "      <td>-0.075194</td>\n",
       "    </tr>\n",
       "    <tr>\n",
       "      <th>2001</th>\n",
       "      <td>1.036701</td>\n",
       "      <td>-0.006628</td>\n",
       "    </tr>\n",
       "    <tr>\n",
       "      <th>2002</th>\n",
       "      <td>1.053648</td>\n",
       "      <td>0.016084</td>\n",
       "    </tr>\n",
       "    <tr>\n",
       "      <th>2003</th>\n",
       "      <td>1.057768</td>\n",
       "      <td>0.003895</td>\n",
       "    </tr>\n",
       "    <tr>\n",
       "      <th>2004</th>\n",
       "      <td>0.993986</td>\n",
       "      <td>-0.064169</td>\n",
       "    </tr>\n",
       "    <tr>\n",
       "      <th>2005</th>\n",
       "      <td>0.985778</td>\n",
       "      <td>-0.008326</td>\n",
       "    </tr>\n",
       "    <tr>\n",
       "      <th>2006</th>\n",
       "      <td>0.990101</td>\n",
       "      <td>0.004366</td>\n",
       "    </tr>\n",
       "    <tr>\n",
       "      <th>2007</th>\n",
       "      <td>0.985851</td>\n",
       "      <td>-0.004311</td>\n",
       "    </tr>\n",
       "    <tr>\n",
       "      <th>2008</th>\n",
       "      <td>1.019279</td>\n",
       "      <td>0.032796</td>\n",
       "    </tr>\n",
       "    <tr>\n",
       "      <th>2009</th>\n",
       "      <td>1.042952</td>\n",
       "      <td>0.022698</td>\n",
       "    </tr>\n",
       "    <tr>\n",
       "      <th>2010</th>\n",
       "      <td>1.069697</td>\n",
       "      <td>0.025002</td>\n",
       "    </tr>\n",
       "    <tr>\n",
       "      <th>2011</th>\n",
       "      <td>1.089700</td>\n",
       "      <td>0.018356</td>\n",
       "    </tr>\n",
       "    <tr>\n",
       "      <th>2012</th>\n",
       "      <td>1.100750</td>\n",
       "      <td>0.010039</td>\n",
       "    </tr>\n",
       "    <tr>\n",
       "      <th>2013</th>\n",
       "      <td>1.176392</td>\n",
       "      <td>0.064300</td>\n",
       "    </tr>\n",
       "    <tr>\n",
       "      <th>2014</th>\n",
       "      <td>1.238797</td>\n",
       "      <td>0.050376</td>\n",
       "    </tr>\n",
       "    <tr>\n",
       "      <th>2015</th>\n",
       "      <td>1.269890</td>\n",
       "      <td>0.024485</td>\n",
       "    </tr>\n",
       "    <tr>\n",
       "      <th>2016</th>\n",
       "      <td>1.300983</td>\n",
       "      <td>0.023900</td>\n",
       "    </tr>\n",
       "    <tr>\n",
       "      <th>2017</th>\n",
       "      <td>1.332076</td>\n",
       "      <td>0.023342</td>\n",
       "    </tr>\n",
       "    <tr>\n",
       "      <th>2018</th>\n",
       "      <td>1.363169</td>\n",
       "      <td>0.022809</td>\n",
       "    </tr>\n",
       "    <tr>\n",
       "      <th>2019</th>\n",
       "      <td>1.394263</td>\n",
       "      <td>0.022301</td>\n",
       "    </tr>\n",
       "    <tr>\n",
       "      <th>2020</th>\n",
       "      <td>1.425356</td>\n",
       "      <td>0.021814</td>\n",
       "    </tr>\n",
       "  </tbody>\n",
       "</table>\n",
       "</div>"
      ],
      "text/plain": [
       "         Value  year_change\n",
       "Date                       \n",
       "1981  0.928587          NaN\n",
       "1982  1.005902     0.076861\n",
       "1983  0.942771    -0.066963\n",
       "1984  0.947301     0.004782\n",
       "1985  0.942701    -0.004879\n",
       "1986  1.023383     0.078838\n",
       "1987  1.022825    -0.000545\n",
       "1988  0.986488    -0.036835\n",
       "1989  0.971993    -0.014913\n",
       "1990  1.005107     0.032946\n",
       "1991  1.036678     0.030454\n",
       "1992  1.063897     0.025585\n",
       "1993  1.099159     0.032081\n",
       "1994  1.123262     0.021458\n",
       "1995  1.085874    -0.034432\n",
       "1996  1.062359    -0.022135\n",
       "1997  1.082734     0.018818\n",
       "1998  1.138844     0.049270\n",
       "1999  1.122043    -0.014974\n",
       "2000  1.043572    -0.075194\n",
       "2001  1.036701    -0.006628\n",
       "2002  1.053648     0.016084\n",
       "2003  1.057768     0.003895\n",
       "2004  0.993986    -0.064169\n",
       "2005  0.985778    -0.008326\n",
       "2006  0.990101     0.004366\n",
       "2007  0.985851    -0.004311\n",
       "2008  1.019279     0.032796\n",
       "2009  1.042952     0.022698\n",
       "2010  1.069697     0.025002\n",
       "2011  1.089700     0.018356\n",
       "2012  1.100750     0.010039\n",
       "2013  1.176392     0.064300\n",
       "2014  1.238797     0.050376\n",
       "2015  1.269890     0.024485\n",
       "2016  1.300983     0.023900\n",
       "2017  1.332076     0.023342\n",
       "2018  1.363169     0.022809\n",
       "2019  1.394263     0.022301\n",
       "2020  1.425356     0.021814"
      ]
     },
     "execution_count": 7,
     "metadata": {},
     "output_type": "execute_result"
    }
   ],
   "source": [
    "data[\"year_change\"] = data[\"Value\"].diff()/data[\"Value\"] ### So, we have non-linear growth in the end.\n",
    "data"
   ]
  },
  {
   "cell_type": "code",
   "execution_count": 8,
   "id": "a9b9f441",
   "metadata": {},
   "outputs": [
    {
     "name": "stdout",
     "output_type": "stream",
     "text": [
      "0.0016744175624057302\n",
      "0.009123806294472965\n"
     ]
    }
   ],
   "source": [
    "quarterly_mean = np.mean(data[\"year_change\"].iloc[0:33])/4 ### To 33, because after that we were extrapolating.\n",
    "quarterly_sd = np.std(data[\"year_change\"].iloc[0:33])/4 ### We assume independent returns and then sum up the deviations.\n",
    "print(quarterly_mean)\n",
    "print(quarterly_sd)"
   ]
  },
  {
   "cell_type": "markdown",
   "id": "78c200bd",
   "metadata": {},
   "source": [
    "From the above we can already see that from 2013 on we always took 0.031093 increase of index. So, when creating the statistics, we will use mean and deviation only up to 2013."
   ]
  },
  {
   "cell_type": "code",
   "execution_count": 10,
   "id": "3ab7c8d1",
   "metadata": {
    "scrolled": true
   },
   "outputs": [
    {
     "name": "stdout",
     "output_type": "stream",
     "text": [
      "-0.015690042897001835\n",
      "0.0012011527936472343\n",
      "-0.001213801313302403\n",
      "0.021396402202024378\n",
      "-0.00013618997578850752\n",
      "-0.008881637066174782\n",
      "-0.003673430138025014\n",
      "0.008517116918088867\n",
      "0.007852515953754644\n",
      "0.006564173336642906\n",
      "0.008286000664582925\n",
      "0.00548222499077084\n",
      "-0.008321421313647914\n",
      "-0.005413808914358309\n",
      "0.0047946697977159485\n",
      "0.01295574796102339\n",
      "-0.003688248492731095\n",
      "-0.017483856347577122\n",
      "-0.0016461784379698142\n",
      "0.0040868273499969155\n",
      "0.0009776640663000397\n",
      "-0.01507486374976052\n",
      "-0.002064368023810225\n",
      "0.0010964050985086636\n",
      "-0.0010732137471761538\n",
      "0.008477128222900504\n",
      "0.0058063051242089915\n",
      "0.006410735572692084\n",
      "0.004674911969441212\n",
      "0.0025351985239470396\n",
      "0.01717952593184977\n",
      "0.013261964298143799\n"
     ]
    },
    {
     "data": {
      "text/plain": [
       "array([0.92858697, 0.96973763, 1.00660266, 1.16467226, 1.00590154,\n",
       "       0.92874958, 0.83746874, 0.75523689, 0.94277098, 0.92131634,\n",
       "       0.86427338, 0.87081043, 0.94730063, 0.88579817, 0.90237057,\n",
       "       0.80081973, 0.94270129, 1.07449812, 1.03700366, 1.11437445,\n",
       "       1.02338296, 1.08391951, 1.06470156, 1.05935907, 1.02282546,\n",
       "       1.05696759, 1.0414982 , 1.03198375, 0.986488  , 0.94339692,\n",
       "       0.98789302, 0.94234673, 0.97199282, 1.0112796 , 0.97415713,\n",
       "       0.97847256, 1.00510713, 1.05810277, 0.90346049, 0.95911463,\n",
       "       1.03667761, 1.08224162, 1.10636986, 1.11316322, 1.06389733,\n",
       "       1.01488948, 1.0651142 , 1.11502621, 1.09915915, 1.0475331 ,\n",
       "       1.05602128, 1.12364781, 1.1232625 , 1.12826785, 1.10201983,\n",
       "       1.07761618, 1.08587394, 0.9695163 , 0.94372221, 0.9418891 ,\n",
       "       1.06235908, 1.20373855, 1.18458006, 1.11055653, 1.08273372,\n",
       "       1.16517005, 1.24276815, 1.14781018, 1.13884423, 1.09117247,\n",
       "       1.08605644, 1.17437281, 1.12204286, 1.03456636, 0.96975791,\n",
       "       0.97576428, 1.04357232, 1.0874921 , 1.25378378, 1.20225447,\n",
       "       1.03670069, 1.06622735, 1.05446418, 1.2017074 , 1.05364796,\n",
       "       0.99657093, 0.98542912, 1.00795971, 1.05776842, 1.01477304,\n",
       "       0.94397256, 1.05190251, 0.99398556, 1.10032598, 1.01646248,\n",
       "       0.96587343, 0.98577775, 0.9088246 , 0.85183125, 0.86876648,\n",
       "       0.990101  , 0.97640691, 0.94268461, 0.88908254, 0.98585064,\n",
       "       1.00664775, 1.01154435, 1.0473502 , 1.01927937, 0.98790227,\n",
       "       0.96946751, 0.97991788, 1.04295235, 1.04085099, 1.08041475,\n",
       "       1.05584033, 1.06969672, 0.9228528 , 0.95021576, 1.0618197 ,\n",
       "       1.08969967, 1.12295052, 1.11578743, 1.08825923, 1.10075009,\n",
       "       1.14832943, 1.19634768, 1.19159345, 1.17639155, 1.29874569,\n",
       "       1.45620459, 1.36276773, 1.2387966 ])"
      ]
     },
     "execution_count": 10,
     "metadata": {},
     "output_type": "execute_result"
    }
   ],
   "source": [
    "yearly_values = data[\"Value\"].values\n",
    "monthly_values = [yearly_values[0]] ### We start with first year's value:\n",
    "our_mean = yearly_values[1] - yearly_values[0]\n",
    "gen_numbers = np.random.normal(loc=our_mean, scale=our_std,size=3) ### Generate numbers using normal distribution.\n",
    "gen_numbers[0] = (1+ gen_numbers[0]) * yearly_values[0]\n",
    "gen_numbers[1] = (1+gen_numbers[1]) * gen_numbers[0]\n",
    "gen_numbers[2] = (1+gen_numbers[2]) * gen_numbers[1]\n",
    "monthly_values = np.concatenate([monthly_values,gen_numbers])\n",
    "i = 1\n",
    "while i<=32: ### 33 before we get identical 0.031 updates that were extrapolated. We do not consider extrapolated values here.\n",
    "    our_mean = ((yearly_values[i+1] - yearly_values[i])/yearly_values[i])/4\n",
    "    print(our_mean)\n",
    "    monthly_values = np.append(monthly_values,yearly_values[i]) ## Append next year\n",
    "    gen_numbers = np.random.normal(loc=our_mean, scale=our_std,size=3)   ### \n",
    "    gen_numbers[0] = (1 + gen_numbers[0]) * yearly_values[i]\n",
    "    gen_numbers[1] = (1 + gen_numbers[1]) * gen_numbers[0]\n",
    "    gen_numbers[2] = (1 + gen_numbers[2]) * gen_numbers[1]\n",
    "    \n",
    "    ## Generate numbers using normal distribution. + yearly_values adds to sum up.\n",
    "    monthly_values = np.concatenate([monthly_values,gen_numbers])\n",
    "    i+=1\n",
    "monthly_values = np.append(monthly_values,yearly_values[i]) ## Append next year\n",
    "monthly_values"
   ]
  },
  {
   "cell_type": "code",
   "execution_count": 11,
   "id": "c6140aad",
   "metadata": {},
   "outputs": [
    {
     "data": {
      "text/plain": [
       "array([0.92858697, 1.00590154, 0.94277098, 0.94730063, 0.94270129,\n",
       "       1.02338296, 1.02282546, 0.986488  , 0.97199282, 1.00510713,\n",
       "       1.03667761, 1.06389733, 1.09915915, 1.1232625 , 1.08587394,\n",
       "       1.06235908, 1.08273372, 1.13884423, 1.12204286, 1.04357232,\n",
       "       1.03670069, 1.05364796, 1.05776842, 0.99398556, 0.98577775,\n",
       "       0.990101  , 0.98585064, 1.01927937, 1.04295235, 1.06969672,\n",
       "       1.08969967, 1.10075009, 1.17639155, 1.2387966 , 1.26988978,\n",
       "       1.30098297, 1.33207615, 1.36316933, 1.39426251, 1.42535569])"
      ]
     },
     "execution_count": 11,
     "metadata": {},
     "output_type": "execute_result"
    }
   ],
   "source": [
    "yearly_values"
   ]
  },
  {
   "cell_type": "code",
   "execution_count": 12,
   "id": "0246b3f2",
   "metadata": {
    "scrolled": true
   },
   "outputs": [
    {
     "data": {
      "text/plain": [
       "array([0.92858697, 0.96973763, 1.00660266, 1.16467226, 1.00590154,\n",
       "       0.92874958, 0.83746874, 0.75523689, 0.94277098, 0.92131634,\n",
       "       0.86427338, 0.87081043, 0.94730063, 0.88579817, 0.90237057,\n",
       "       0.80081973, 0.94270129, 1.07449812, 1.03700366, 1.11437445,\n",
       "       1.02338296, 1.08391951, 1.06470156, 1.05935907, 1.02282546,\n",
       "       1.05696759, 1.0414982 , 1.03198375, 0.986488  , 0.94339692,\n",
       "       0.98789302, 0.94234673, 0.97199282, 1.0112796 , 0.97415713,\n",
       "       0.97847256, 1.00510713, 1.05810277, 0.90346049, 0.95911463,\n",
       "       1.03667761, 1.08224162, 1.10636986, 1.11316322, 1.06389733,\n",
       "       1.01488948, 1.0651142 , 1.11502621, 1.09915915, 1.0475331 ,\n",
       "       1.05602128, 1.12364781, 1.1232625 , 1.12826785, 1.10201983,\n",
       "       1.07761618, 1.08587394, 0.9695163 , 0.94372221, 0.9418891 ,\n",
       "       1.06235908, 1.20373855, 1.18458006, 1.11055653, 1.08273372,\n",
       "       1.16517005, 1.24276815, 1.14781018, 1.13884423, 1.09117247,\n",
       "       1.08605644, 1.17437281, 1.12204286, 1.03456636, 0.96975791,\n",
       "       0.97576428, 1.04357232, 1.0874921 , 1.25378378, 1.20225447,\n",
       "       1.03670069, 1.06622735, 1.05446418, 1.2017074 , 1.05364796,\n",
       "       0.99657093, 0.98542912, 1.00795971, 1.05776842, 1.01477304,\n",
       "       0.94397256, 1.05190251, 0.99398556, 1.10032598, 1.01646248,\n",
       "       0.96587343, 0.98577775, 0.9088246 , 0.85183125, 0.86876648,\n",
       "       0.990101  , 0.97640691, 0.94268461, 0.88908254, 0.98585064,\n",
       "       1.00664775, 1.01154435, 1.0473502 , 1.01927937, 0.98790227,\n",
       "       0.96946751, 0.97991788, 1.04295235, 1.04085099, 1.08041475,\n",
       "       1.05584033, 1.06969672, 0.9228528 , 0.95021576, 1.0618197 ,\n",
       "       1.08969967, 1.12295052, 1.11578743, 1.08825923, 1.10075009,\n",
       "       1.14832943, 1.19634768, 1.19159345, 1.17639155, 1.29874569,\n",
       "       1.45620459, 1.36276773, 1.2387966 ])"
      ]
     },
     "execution_count": 12,
     "metadata": {},
     "output_type": "execute_result"
    }
   ],
   "source": [
    "monthly_values"
   ]
  },
  {
   "cell_type": "code",
   "execution_count": 35,
   "id": "b94b5015",
   "metadata": {},
   "outputs": [
    {
     "data": {
      "text/plain": [
       "0.10516988236433777"
      ]
     },
     "execution_count": 35,
     "metadata": {},
     "output_type": "execute_result"
    }
   ],
   "source": [
    "np.std(monthly_values)"
   ]
  },
  {
   "cell_type": "markdown",
   "id": "b6db1bfd",
   "metadata": {},
   "source": [
    "We look at differences in growth:"
   ]
  },
  {
   "cell_type": "code",
   "execution_count": 13,
   "id": "e4529740",
   "metadata": {
    "scrolled": true
   },
   "outputs": [
    {
     "data": {
      "text/plain": [
       "array([ 0.04431536,  0.03801546,  0.15703277, -0.13632223, -0.07669931,\n",
       "       -0.09828359, -0.09819094,  0.24831161, -0.022757  , -0.06191463,\n",
       "        0.00756364,  0.08783794, -0.06492391,  0.01870901, -0.11253785,\n",
       "        0.17717041,  0.13980762, -0.03489485,  0.07460995, -0.08165253,\n",
       "        0.05915338, -0.01773006, -0.00501783, -0.03448652,  0.03338022,\n",
       "       -0.01463564, -0.00913534, -0.04408573, -0.0436813 ,  0.04716583,\n",
       "       -0.04610448,  0.03145986,  0.04041879, -0.03670841,  0.00442991,\n",
       "        0.02722056,  0.05272636, -0.14615053,  0.06160108,  0.08086935,\n",
       "        0.04395197,  0.02229468,  0.00614023, -0.04425756, -0.04606446,\n",
       "        0.04948788,  0.04686071, -0.01423022, -0.04696867,  0.00810302,\n",
       "        0.06403899, -0.00034292,  0.00445608, -0.02326399, -0.02214447,\n",
       "        0.00766298, -0.10715575, -0.02660512, -0.00194243,  0.12790252,\n",
       "        0.13308068, -0.01591582, -0.06248926, -0.02505303,  0.07613721,\n",
       "        0.06659809, -0.07640843, -0.00781136, -0.04185977, -0.00468857,\n",
       "        0.0813184 , -0.04455991, -0.07796182, -0.0626431 ,  0.00619367,\n",
       "        0.06949224,  0.04208599,  0.15291301, -0.04109904, -0.13770277,\n",
       "        0.02848137, -0.01103252,  0.13963795, -0.12320756, -0.05417087,\n",
       "       -0.01118015,  0.02286373,  0.04941537, -0.04064725, -0.06976976,\n",
       "        0.1143359 , -0.05505924,  0.10698387, -0.07621695, -0.04976972,\n",
       "        0.02060759, -0.07806339, -0.06271105,  0.01988096,  0.13966298,\n",
       "       -0.013831  , -0.03453713, -0.05686109,  0.1088404 ,  0.0210956 ,\n",
       "        0.00486426,  0.03539722, -0.02680177, -0.03078361, -0.01866051,\n",
       "        0.01077949,  0.06432628, -0.00201482,  0.03801097, -0.02274536,\n",
       "        0.01312356, -0.13727621,  0.02965041,  0.11745115,  0.02625679,\n",
       "        0.03051377, -0.00637881, -0.02467154,  0.01147784,  0.04322447,\n",
       "        0.04181575, -0.00397396, -0.01275762,  0.10400801,  0.12123921,\n",
       "       -0.06416465, -0.09097011])"
      ]
     },
     "execution_count": 13,
     "metadata": {},
     "output_type": "execute_result"
    }
   ],
   "source": [
    "empirical_growth = np.diff(monthly_values)/monthly_values[0:-1]\n",
    "empirical_growth"
   ]
  },
  {
   "cell_type": "code",
   "execution_count": 14,
   "id": "748d7391",
   "metadata": {},
   "outputs": [
    {
     "data": {
      "text/plain": [
       "0.24831160829648427"
      ]
     },
     "execution_count": 14,
     "metadata": {},
     "output_type": "execute_result"
    }
   ],
   "source": [
    "max(empirical_growth)"
   ]
  },
  {
   "cell_type": "code",
   "execution_count": 15,
   "id": "400a4e91",
   "metadata": {},
   "outputs": [
    {
     "data": {
      "text/plain": [
       "-0.14615052761390412"
      ]
     },
     "execution_count": 15,
     "metadata": {},
     "output_type": "execute_result"
    }
   ],
   "source": [
    "min(empirical_growth)"
   ]
  },
  {
   "cell_type": "markdown",
   "id": "c7ffda9b",
   "metadata": {},
   "source": [
    "Our statistics for quarterly growth:"
   ]
  },
  {
   "cell_type": "code",
   "execution_count": 16,
   "id": "8eb2388a",
   "metadata": {},
   "outputs": [
    {
     "name": "stdout",
     "output_type": "stream",
     "text": [
      "Mean: 0.004614579745984817\n",
      "Standard deviation: 0.07038524090780694\n"
     ]
    }
   ],
   "source": [
    "quarterly_mean = np.mean(empirical_growth)\n",
    "quarterly_sd = np.std(empirical_growth) ### We assume independent returns and then sum up the deviations.\n",
    "print(\"Mean:\",quarterly_mean)\n",
    "print(\"Standard deviation:\",quarterly_sd)"
   ]
  },
  {
   "cell_type": "code",
   "execution_count": 17,
   "id": "69110d02",
   "metadata": {},
   "outputs": [
    {
     "data": {
      "text/plain": [
       "0.01835483432198751"
      ]
     },
     "execution_count": 17,
     "metadata": {},
     "output_type": "execute_result"
    }
   ],
   "source": [
    "0.0020053105347767257\n",
    "0.01835483432198751"
   ]
  },
  {
   "cell_type": "code",
   "execution_count": 18,
   "id": "97f398bd",
   "metadata": {
    "scrolled": true
   },
   "outputs": [
    {
     "data": {
      "text/plain": [
       "[1.1646722602333235,\n",
       " 0.7552368949661198,\n",
       " 0.8708104336461187,\n",
       " 0.80081972864429,\n",
       " 1.114374453905447,\n",
       " 1.059359066730376,\n",
       " 1.0319837537438772,\n",
       " 0.9423467272476288,\n",
       " 0.9784725594571351,\n",
       " 0.9591146310562279,\n",
       " 1.1131632229013502,\n",
       " 1.1150262113238267,\n",
       " 1.1236478148960756,\n",
       " 1.077616183009492,\n",
       " 0.9418890966536534,\n",
       " 1.1105565349738338,\n",
       " 1.147810180824384,\n",
       " 1.174372809929169,\n",
       " 0.9757642773139384,\n",
       " 1.2022544698096849,\n",
       " 1.2017074023533958,\n",
       " 1.0079597103453537,\n",
       " 1.0519025132197446,\n",
       " 0.9658734254127505,\n",
       " 0.8687664787527978,\n",
       " 0.8890825387888257,\n",
       " 1.047350201545278,\n",
       " 0.9799178806950193,\n",
       " 1.0558403310968074,\n",
       " 1.0618196971170837,\n",
       " 1.08825923101098,\n",
       " 1.1915934462514612,\n",
       " 1.3627677313666602]"
      ]
     },
     "execution_count": 18,
     "metadata": {},
     "output_type": "execute_result"
    }
   ],
   "source": [
    "### Choose every fourth value:\n",
    "i = 4\n",
    "yearly = [monthly_values[3]]\n",
    "while i<len(monthly_values):\n",
    "    if i%4==3:\n",
    "        yearly.append(monthly_values[i])\n",
    "    \n",
    "    \n",
    "    i+=1\n",
    "yearly"
   ]
  },
  {
   "cell_type": "code",
   "execution_count": 19,
   "id": "b0bbcde5",
   "metadata": {},
   "outputs": [
    {
     "data": {
      "text/plain": [
       "array([0.92858697, 1.00590154, 0.94277098, 0.94730063, 0.94270129,\n",
       "       1.02338296, 1.02282546, 0.986488  , 0.97199282, 1.00510713,\n",
       "       1.03667761, 1.06389733, 1.09915915, 1.1232625 , 1.08587394,\n",
       "       1.06235908, 1.08273372, 1.13884423, 1.12204286, 1.04357232,\n",
       "       1.03670069, 1.05364796, 1.05776842, 0.99398556, 0.98577775,\n",
       "       0.990101  , 0.98585064, 1.01927937, 1.04295235, 1.06969672,\n",
       "       1.08969967, 1.10075009, 1.17639155, 1.2387966 ])"
      ]
     },
     "execution_count": 19,
     "metadata": {},
     "output_type": "execute_result"
    }
   ],
   "source": [
    "yearly_values[0:34]"
   ]
  },
  {
   "cell_type": "code",
   "execution_count": 20,
   "id": "00378ab1",
   "metadata": {},
   "outputs": [
    {
     "name": "stdout",
     "output_type": "stream",
     "text": [
      "Mean: 1.0434376138235297\n",
      "Standard deviation: 0.06828127379580724\n",
      "And our values: Mean yearly: 1.0433979363400638\n",
      "And our values: STD yearly: 0.1256302367706472\n"
     ]
    }
   ],
   "source": [
    "yearly_mean1 = np.mean(yearly)\n",
    "yearly_sd1 = np.std(yearly) ### We assume independent returns and then sum up the deviations.\n",
    "print(\"Mean:\",np.mean(yearly_values[0:34]))\n",
    "print(\"Standard deviation:\",np.std(yearly_values[0:34]))\n",
    "print(\"And our values: Mean yearly:\",np.mean(yearly))\n",
    "print(\"And our values: STD yearly:\",np.std(yearly))\n"
   ]
  },
  {
   "cell_type": "markdown",
   "id": "2f7bea92",
   "metadata": {},
   "source": [
    "We check which distribution fits our graph best."
   ]
  },
  {
   "cell_type": "code",
   "execution_count": 21,
   "id": "20000bc3",
   "metadata": {
    "scrolled": true
   },
   "outputs": [
    {
     "name": "stderr",
     "output_type": "stream",
     "text": [
      "WARNING:root:SKIPPED kstwo distribution (taking more than 30 seconds)\n",
      "WARNING:root:SKIPPED rv_continuous distribution (taking more than 30 seconds)\n",
      "WARNING:root:SKIPPED rv_histogram distribution (taking more than 30 seconds)\n",
      "WARNING:root:SKIPPED kappa4 distribution (taking more than 30 seconds)\n",
      "WARNING:root:SKIPPED levy_stable distribution (taking more than 30 seconds)\n",
      "WARNING:root:SKIPPED ncx2 distribution (taking more than 30 seconds)\n",
      "C:\\Users\\User\\.conda\\envs\\singularitynet\\lib\\site-packages\\scipy\\integrate\\quadpack.py:879: IntegrationWarning: The maximum number of subdivisions (50) has been achieved.\n",
      "  If increasing the limit yields no improvement it is advised to analyze \n",
      "  the integrand in order to determine the difficulties.  If the position of a \n",
      "  local difficulty can be determined (singularity, discontinuity) one will \n",
      "  probably gain from splitting up the interval and calling the integrator \n",
      "  on the subranges.  Perhaps a special-purpose integrator should be used.\n",
      "  quad_r = quad(f, low, high, args=args, full_output=self.full_output,\n",
      "WARNING:root:SKIPPED recipinvgauss distribution (taking more than 30 seconds)\n",
      "WARNING:root:SKIPPED studentized_range distribution (taking more than 30 seconds)\n",
      "C:\\Users\\User\\.conda\\envs\\singularitynet\\lib\\site-packages\\scipy\\integrate\\quadpack.py:879: IntegrationWarning: The integral is probably divergent, or slowly convergent.\n",
      "  quad_r = quad(f, low, high, args=args, full_output=self.full_output,\n",
      "WARNING:root:SKIPPED vonmises_line distribution (taking more than 30 seconds)\n",
      "WARNING:root:SKIPPED vonmises distribution (taking more than 30 seconds)\n"
     ]
    },
    {
     "data": {
      "text/html": [
       "<div>\n",
       "<style scoped>\n",
       "    .dataframe tbody tr th:only-of-type {\n",
       "        vertical-align: middle;\n",
       "    }\n",
       "\n",
       "    .dataframe tbody tr th {\n",
       "        vertical-align: top;\n",
       "    }\n",
       "\n",
       "    .dataframe thead th {\n",
       "        text-align: right;\n",
       "    }\n",
       "</style>\n",
       "<table border=\"1\" class=\"dataframe\">\n",
       "  <thead>\n",
       "    <tr style=\"text-align: right;\">\n",
       "      <th></th>\n",
       "      <th>sumsquare_error</th>\n",
       "      <th>aic</th>\n",
       "      <th>bic</th>\n",
       "      <th>kl_div</th>\n",
       "    </tr>\n",
       "  </thead>\n",
       "  <tbody>\n",
       "    <tr>\n",
       "      <th>dweibull</th>\n",
       "      <td>515.763573</td>\n",
       "      <td>-41.796090</td>\n",
       "      <td>194.544150</td>\n",
       "      <td>inf</td>\n",
       "    </tr>\n",
       "    <tr>\n",
       "      <th>dgamma</th>\n",
       "      <td>517.355164</td>\n",
       "      <td>-43.692786</td>\n",
       "      <td>194.950860</td>\n",
       "      <td>inf</td>\n",
       "    </tr>\n",
       "    <tr>\n",
       "      <th>fisk</th>\n",
       "      <td>523.258483</td>\n",
       "      <td>-62.505796</td>\n",
       "      <td>196.448528</td>\n",
       "      <td>inf</td>\n",
       "    </tr>\n",
       "    <tr>\n",
       "      <th>genlogistic</th>\n",
       "      <td>523.984938</td>\n",
       "      <td>-63.711080</td>\n",
       "      <td>196.631660</td>\n",
       "      <td>inf</td>\n",
       "    </tr>\n",
       "    <tr>\n",
       "      <th>exponnorm</th>\n",
       "      <td>526.386122</td>\n",
       "      <td>-63.020779</td>\n",
       "      <td>197.235174</td>\n",
       "      <td>inf</td>\n",
       "    </tr>\n",
       "  </tbody>\n",
       "</table>\n",
       "</div>"
      ],
      "text/plain": [
       "             sumsquare_error        aic         bic  kl_div\n",
       "dweibull          515.763573 -41.796090  194.544150     inf\n",
       "dgamma            517.355164 -43.692786  194.950860     inf\n",
       "fisk              523.258483 -62.505796  196.448528     inf\n",
       "genlogistic       523.984938 -63.711080  196.631660     inf\n",
       "exponnorm         526.386122 -63.020779  197.235174     inf"
      ]
     },
     "execution_count": 21,
     "metadata": {},
     "output_type": "execute_result"
    },
    {
     "name": "stderr",
     "output_type": "stream",
     "text": [
      "C:\\Users\\User\\.conda\\envs\\singularitynet\\lib\\site-packages\\scipy\\integrate\\quadpack.py:879: IntegrationWarning: The occurrence of roundoff error is detected, which prevents \n",
      "  the requested tolerance from being achieved.  The error may be \n",
      "  underestimated.\n",
      "  quad_r = quad(f, low, high, args=args, full_output=self.full_output,\n",
      "C:\\Users\\User\\.conda\\envs\\singularitynet\\lib\\site-packages\\scipy\\integrate\\quadpack.py:879: IntegrationWarning: The maximum number of subdivisions (50) has been achieved.\n",
      "  If increasing the limit yields no improvement it is advised to analyze \n",
      "  the integrand in order to determine the difficulties.  If the position of a \n",
      "  local difficulty can be determined (singularity, discontinuity) one will \n",
      "  probably gain from splitting up the interval and calling the integrator \n",
      "  on the subranges.  Perhaps a special-purpose integrator should be used.\n",
      "  quad_r = quad(f, low, high, args=args, full_output=self.full_output,\n"
     ]
    },
    {
     "data": {
      "image/png": "[encoded data removed]",
      "text/plain": [
       "<Figure size 432x288 with 1 Axes>"
      ]
     },
     "metadata": {
      "needs_background": "light"
     },
     "output_type": "display_data"
    }
   ],
   "source": [
    "f = Fitter(empirical_growth)\n",
    "f.fit()\n",
    "f.summary()"
   ]
  },
  {
   "cell_type": "code",
   "execution_count": 22,
   "id": "59e79ca9",
   "metadata": {},
   "outputs": [
    {
     "data": {
      "text/plain": [
       "(1.217914090307231, 0.001475603922600907, 0.058252922795943546)"
      ]
     },
     "execution_count": 22,
     "metadata": {},
     "output_type": "execute_result"
    }
   ],
   "source": [
    "### It seems that dGamma distribution iss the best. \n",
    "f.fitted_param['dweibull']"
   ]
  },
  {
   "cell_type": "code",
   "execution_count": 23,
   "id": "9b73dd6f",
   "metadata": {
    "scrolled": true
   },
   "outputs": [
    {
     "name": "stdout",
     "output_type": "stream",
     "text": [
      "[-0.00190997  0.03959571  0.04878136  0.03196962 -0.02599269 -0.02366765\n",
      "  0.03960953  0.02117775  0.01761419  0.03210177  0.04937519 -0.10039567\n",
      " -0.04535688 -0.02021579  0.06066005  0.02382092  0.02985518  0.14008479\n",
      " -0.03271342  0.00981067  0.01047058 -0.02277623 -0.0375004  -0.17671073\n",
      " -0.02093664 -0.02212114 -0.09557474 -0.01006274 -0.02224175  0.08990484\n",
      " -0.03016563 -0.05446902 -0.00418283 -0.01644329 -0.02855954 -0.01202936\n",
      "  0.10985735  0.08441878  0.07062992 -0.16508708  0.20534508  0.03398772\n",
      "  0.15320285  0.0076417  -0.1027457  -0.02430168  0.01866051  0.1436983\n",
      " -0.00432982  0.08422994 -0.10536387  0.09115999  0.03421989  0.09214136\n",
      "  0.06598491 -0.13182171 -0.04291335  0.01874071  0.00246864  0.01681091\n",
      " -0.01142397 -0.02184077 -0.04222146 -0.02410214  0.10467706  0.00042368\n",
      "  0.0447898  -0.01165724 -0.03772444  0.07726428  0.13067855 -0.0241452\n",
      "  0.01820053  0.06702128  0.02632018  0.06895974  0.00545162  0.03940195\n",
      " -0.13352246 -0.02220693  0.02818291  0.19858271 -0.04091952  0.06074647\n",
      "  0.07160312  0.03391186  0.01790797  0.06489064 -0.01219108  0.07888951\n",
      "  0.02274375  0.00591445 -0.06662382  0.00384336 -0.09858877 -0.15057832\n",
      " -0.04955436  0.09929839 -0.02313253 -0.01259063 -0.00270282  0.03861917\n",
      "  0.14647513 -0.20678941 -0.02050332  0.02709761 -0.23428874  0.01292632\n",
      "  0.06974777  0.03520231 -0.03979205  0.03020628  0.0313795   0.01572973\n",
      "  0.13903922  0.09085532 -0.00575084  0.03932584  0.08418718  0.04101532\n",
      " -0.01665332 -0.07127536  0.02464773  0.05976718 -0.03980493 -0.04888167\n",
      " -0.02417404 -0.00831057  0.00427627  0.00850655 -0.0334136  -0.05187616\n",
      "  0.05912973  0.09958682 -0.16319658 -0.00932448 -0.06600934 -0.06032445\n",
      "  0.04895464 -0.15144182 -0.10876387  0.02855611 -0.09521189 -0.10248352\n",
      "  0.06616931 -0.04874307 -0.12841352  0.02905378 -0.04390554  0.00699019\n",
      "  0.02790977 -0.05653721 -0.01776305 -0.00160297 -0.05280604  0.09325495\n",
      "  0.00926166 -0.07977162  0.05644749 -0.09110267 -0.04122572  0.0660843\n",
      "  0.11180468  0.02204065  0.01236366  0.00572532 -0.09346483  0.02969674\n",
      "  0.03633183 -0.11608073  0.02913345 -0.06715132  0.05668752 -0.09374681\n",
      "  0.01233378 -0.0495665   0.04728168  0.02418639  0.02226053 -0.00809095\n",
      " -0.01723104 -0.03882971  0.02250505  0.21110361 -0.03464257  0.1242177\n",
      "  0.01001589 -0.0024358   0.07456243 -0.01117851  0.00536955  0.0265898\n",
      "  0.08954111 -0.08292072  0.08986522 -0.05027041  0.00919021 -0.0077425\n",
      "  0.04774752  0.12617894]\n"
     ]
    },
    {
     "data": {
      "text/plain": [
       "(array([0.22452114, 0.56130285, 0.89808456, 1.68390856, 5.27624681,\n",
       "        6.96015537, 3.8168594 , 1.79616913, 0.89808456, 0.33678171]),\n",
       " array([-0.23428874, -0.18974951, -0.14521027, -0.10067104, -0.0561318 ,\n",
       "        -0.01159256,  0.03294667,  0.07748591,  0.12202514,  0.16656438,\n",
       "         0.21110361]),\n",
       " <BarContainer object of 10 artists>)"
      ]
     },
     "execution_count": 23,
     "metadata": {},
     "output_type": "execute_result"
    },
    {
     "data": {
      "image/png": "[encoded data removed]",
      "text/plain": [
       "<Figure size 432x288 with 1 Axes>"
      ]
     },
     "metadata": {
      "needs_background": "light"
     },
     "output_type": "display_data"
    }
   ],
   "source": [
    "simulate = stats.dweibull.rvs(1.217914090307231, 0.001475603922600907, 0.058252922795943546, size=200)    \n",
    "print(simulate)\n",
    "plt.hist(simulate, density=True, bins=10)  # density=False would make counts"
   ]
  },
  {
   "cell_type": "markdown",
   "id": "09fca074",
   "metadata": {},
   "source": [
    "We simulate a random dgamma distribution with our parameters:"
   ]
  },
  {
   "cell_type": "code",
   "execution_count": 24,
   "id": "e5570f23",
   "metadata": {},
   "outputs": [
    {
     "name": "stdout",
     "output_type": "stream",
     "text": [
      "[[ 0.08317436  0.0371627   0.03725814 ...  0.13585452  0.04531756\n",
      "  -0.00037761]\n",
      " [ 0.04873789  0.03984829 -0.09330432 ...  0.02337701 -0.14055388\n",
      "   0.11217033]\n",
      " [ 0.09331529  0.04432265  0.01694293 ...  0.05539107  0.00395383\n",
      "   0.00321349]\n",
      " ...\n",
      " [-0.11575953 -0.02542572  0.01438243 ... -0.02087189  0.08564025\n",
      "  -0.05515555]\n",
      " [ 0.04344182 -0.00104616 -0.00997912 ...  0.0720277   0.04952798\n",
      "   0.03839802]\n",
      " [-0.00579259  0.08116917  0.02152095 ... -0.02684637  0.00460099\n",
      "   0.14001326]]\n"
     ]
    }
   ],
   "source": [
    "simulate = stats.dweibull.rvs(1.217914090307231, 0.001475603922600907, 0.058252922795943546, size=[40,10000])    \n",
    "print(simulate)"
   ]
  },
  {
   "cell_type": "markdown",
   "id": "e7450892",
   "metadata": {},
   "source": [
    "An example index would be:"
   ]
  },
  {
   "cell_type": "code",
   "execution_count": 25,
   "id": "982bba64",
   "metadata": {},
   "outputs": [],
   "source": [
    "simulate[0,:] = 1 + simulate[0,:]\n",
    "i = 1\n",
    "while i<len(simulate[:,0]):\n",
    "    simulate[i,:] = simulate[i-1,:] * (1 + simulate[i,:])\n",
    "    i+=1"
   ]
  },
  {
   "cell_type": "markdown",
   "id": "c066c17e",
   "metadata": {},
   "source": [
    "Average return on our last period:"
   ]
  },
  {
   "cell_type": "code",
   "execution_count": 26,
   "id": "18125026",
   "metadata": {
    "scrolled": true
   },
   "outputs": [
    {
     "data": {
      "text/plain": [
       "1.0598209432158563"
      ]
     },
     "execution_count": 26,
     "metadata": {},
     "output_type": "execute_result"
    }
   ],
   "source": [
    "np.mean(simulate[39,:]) ### Average number of the last observation, so growth after 10 years."
   ]
  },
  {
   "cell_type": "markdown",
   "id": "d45a7392",
   "metadata": {},
   "source": [
    "Now we get average values, 2.5% intervals and lowest values for each prediction."
   ]
  },
  {
   "cell_type": "code",
   "execution_count": 27,
   "id": "be3dc993",
   "metadata": {},
   "outputs": [],
   "source": [
    "avg_values = []\n",
    "lower_conf = []\n",
    "upper_conf = []\n",
    "min_values = []\n",
    "max_values = []\n",
    "\n",
    "i = 0\n",
    "while i<40:\n",
    "    avg_values.append(np.mean(simulate[i,:]))\n",
    "    lower_conf.append(np.sort(simulate[i,:])[250])\n",
    "    upper_conf.append(np.sort(simulate[i,:])[9750])\n",
    "    min_values.append(min(simulate[i,:]))\n",
    "    max_values.append(max(simulate[i,:]))\n",
    "    i+=1"
   ]
  },
  {
   "cell_type": "markdown",
   "id": "df40627e",
   "metadata": {},
   "source": [
    "# Results"
   ]
  },
  {
   "cell_type": "code",
   "execution_count": 32,
   "id": "01bb95dc",
   "metadata": {
    "scrolled": true
   },
   "outputs": [
    {
     "data": {
      "image/png": "[encoded data removed]",
      "text/plain": [
       "<Figure size 432x288 with 1 Axes>"
      ]
     },
     "metadata": {
      "needs_background": "light"
     },
     "output_type": "display_data"
    }
   ],
   "source": [
    "import matplotlib.pyplot as plt\n",
    "\n",
    "# Define data values\n",
    "x = range(1,41)\n",
    "\n",
    "\n",
    "# Plot a simple line chart\n",
    "plt.plot(x, avg_values,color =\"b\")\n",
    "\n",
    "# Plot lower confidence interval\n",
    "plt.plot(x, lower_conf,color =\"r\")\n",
    "# Plot upper confidence interval\n",
    "plt.plot(x, upper_conf,color =\"r\")\n",
    "plt.legend([\"Average index growth\",\"Lower bound\",\"Upper bound\"],loc = \"upper left\")\n",
    "# naming the x axis\n",
    "plt.xlabel('Quarter 1-40')\n",
    "# naming the y axis\n",
    "plt.ylabel('Index value')\n",
    "plt.title(\"Index with 10.000 simulated runs, average and upper/lower bound for index given its past values\")\n",
    "plt.show()\n"
   ]
  },
  {
   "cell_type": "markdown",
   "id": "956a0ac6",
   "metadata": {},
   "source": [
    "And just for visualisation, plot of average growth of index:"
   ]
  },
  {
   "cell_type": "code",
   "execution_count": 31,
   "id": "06583f3e",
   "metadata": {},
   "outputs": [
    {
     "data": {
      "image/png": "[encoded data removed]",
      "text/plain": [
       "<Figure size 432x288 with 1 Axes>"
      ]
     },
     "metadata": {
      "needs_background": "light"
     },
     "output_type": "display_data"
    }
   ],
   "source": [
    "# Define data values\n",
    "x = range(1,41)\n",
    "\n",
    "plt.title(\"Average index with 10.000 simulated runs\")\n",
    "\n",
    "# Plot a simple line chart\n",
    "plt.plot(x, avg_values,color =\"b\")\n",
    "# naming the x axis\n",
    "plt.xlabel('Quarter 1-40')\n",
    "# naming the y axis\n",
    "plt.ylabel('Index value')\n",
    "plt.show()\n"
   ]
  },
  {
   "cell_type": "markdown",
   "id": "66a8acd8",
   "metadata": {},
   "source": [
    "And now a randomly generated index:"
   ]
  },
  {
   "cell_type": "code",
   "execution_count": 34,
   "id": "8aa624b2",
   "metadata": {},
   "outputs": [
    {
     "data": {
      "image/png": "[encoded data removed]",
      "text/plain": [
       "<Figure size 432x288 with 1 Axes>"
      ]
     },
     "metadata": {
      "needs_background": "light"
     },
     "output_type": "display_data"
    }
   ],
   "source": [
    "plt.title(\"Randomly generated index\")\n",
    "\n",
    "# Plot a simple line chart\n",
    "plt.plot(x, simulate[:,5000],color =\"b\")\n",
    "# naming the x axis\n",
    "plt.xlabel('Quarter 1-40')\n",
    "# naming the y axis\n",
    "plt.ylabel('Index value')\n",
    "plt.show()"
   ]
  },
  {
   "cell_type": "code",
   "execution_count": null,
   "id": "08086d1d",
   "metadata": {},
   "outputs": [],
   "source": []
  },
  {
   "cell_type": "code",
   "execution_count": null,
   "id": "e96a0f5d",
   "metadata": {},
   "outputs": [],
   "source": []
  },
  {
   "cell_type": "code",
   "execution_count": null,
   "id": "617e9752",
   "metadata": {},
   "outputs": [],
   "source": []
  }
 ],
 "metadata": {
  "kernelspec": {
   "display_name": "Python 3",
   "language": "python",
   "name": "python3"
  },
  "language_info": {
   "codemirror_mode": {
    "name": "ipython",
    "version": 3
   },
   "file_extension": ".py",
   "mimetype": "text/x-python",
   "name": "python",
   "nbconvert_exporter": "python",
   "pygments_lexer": "ipython3",
   "version": "3.8.10"
  }
 },
 "nbformat": 4,
 "nbformat_minor": 5
}
