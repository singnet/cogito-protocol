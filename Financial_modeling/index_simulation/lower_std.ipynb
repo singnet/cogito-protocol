{
 "cells": [
  {
   "cell_type": "code",
   "execution_count": null,
   "id": "b402b63d",
   "metadata": {},
   "outputs": [],
   "source": []
  },
  {
   "cell_type": "code",
   "execution_count": 1,
   "id": "aad0470f",
   "metadata": {},
   "outputs": [],
   "source": [
    "import pandas as pd\n",
    "import numpy as np\n",
    "from fitter import Fitter\n",
    "from scipy.stats import *\n",
    "import matplotlib.pyplot as plt\n",
    "import scipy.stats as stats    \n"
   ]
  },
  {
   "cell_type": "code",
   "execution_count": 2,
   "id": "7dd75d85",
   "metadata": {},
   "outputs": [
    {
     "name": "stdout",
     "output_type": "stream",
     "text": [
      "[0.76022328]\n",
      "[0.16086471]\n",
      "[0.57942501]\n"
     ]
    }
   ],
   "source": [
    "import json\n",
    "import numpy as np\n",
    "import my_rand_lib as mr\n",
    "\n",
    "\n",
    "fpath = './rand_seed_file'\n",
    "with open(fpath,'r+') as f:\n",
    "    results2 = json.load(f)\n",
    "\n",
    "rand_seed = mr.get_numpy_seed(results2)\n",
    "np.random.set_state(rand_seed)\n",
    "\n",
    "print (np.random.rand(1))\n",
    "print (np.random.rand(1))\n",
    "print (np.random.rand(1))"
   ]
  },
  {
   "cell_type": "code",
   "execution_count": 3,
   "id": "7f3a3c20",
   "metadata": {},
   "outputs": [
    {
     "data": {
      "text/plain": [
       "0.12721378336512046"
      ]
     },
     "execution_count": 3,
     "metadata": {},
     "output_type": "execute_result"
    }
   ],
   "source": [
    "data = pd.read_csv(\"green_coin.csv\", index_col=0)\n",
    "our_std = np.std(data[\"Value\"])/10  ### Divided by two because they will sum back up.\n",
    "### Actually, we are just adding new deviation on top of the previous one. So in the end, we might divide it by 4.\n",
    "### It will be too high anyway, but that's alright because we want to be cautious.\n",
    "np.std(data[\"Value\"])"
   ]
  },
  {
   "cell_type": "code",
   "execution_count": 4,
   "id": "b8b54a3b",
   "metadata": {},
   "outputs": [
    {
     "data": {
      "text/plain": [
       "1.0434376138235297"
      ]
     },
     "execution_count": 4,
     "metadata": {},
     "output_type": "execute_result"
    }
   ],
   "source": [
    "np.mean(data[\"Value\"].iloc[0:34])"
   ]
  },
  {
   "cell_type": "code",
   "execution_count": 5,
   "id": "ad4a0445",
   "metadata": {},
   "outputs": [],
   "source": [
    "### We assume that within a year (for the past values only), \n",
    "### the changes of values of data follow a normal distrubiton on quarterly basis.\n",
    "### Mean will be (value_year - value_[year-1])/4 and std the general std of quarters times 1.25 (just to be cautios)\n",
    "### So, when looking at the data, we will now go to "
   ]
  },
  {
   "cell_type": "code",
   "execution_count": 6,
   "id": "4a1b8c6e",
   "metadata": {
    "scrolled": true
   },
   "outputs": [
    {
     "data": {
      "text/html": [
       "<div>\n",
       "<style scoped>\n",
       "    .dataframe tbody tr th:only-of-type {\n",
       "        vertical-align: middle;\n",
       "    }\n",
       "\n",
       "    .dataframe tbody tr th {\n",
       "        vertical-align: top;\n",
       "    }\n",
       "\n",
       "    .dataframe thead th {\n",
       "        text-align: right;\n",
       "    }\n",
       "</style>\n",
       "<table border=\"1\" class=\"dataframe\">\n",
       "  <thead>\n",
       "    <tr style=\"text-align: right;\">\n",
       "      <th></th>\n",
       "      <th>Value</th>\n",
       "      <th>year_change</th>\n",
       "    </tr>\n",
       "    <tr>\n",
       "      <th>Date</th>\n",
       "      <th></th>\n",
       "      <th></th>\n",
       "    </tr>\n",
       "  </thead>\n",
       "  <tbody>\n",
       "    <tr>\n",
       "      <th>1981</th>\n",
       "      <td>0.928587</td>\n",
       "      <td>NaN</td>\n",
       "    </tr>\n",
       "    <tr>\n",
       "      <th>1982</th>\n",
       "      <td>1.005902</td>\n",
       "      <td>0.076861</td>\n",
       "    </tr>\n",
       "    <tr>\n",
       "      <th>1983</th>\n",
       "      <td>0.942771</td>\n",
       "      <td>-0.066963</td>\n",
       "    </tr>\n",
       "    <tr>\n",
       "      <th>1984</th>\n",
       "      <td>0.947301</td>\n",
       "      <td>0.004782</td>\n",
       "    </tr>\n",
       "    <tr>\n",
       "      <th>1985</th>\n",
       "      <td>0.942701</td>\n",
       "      <td>-0.004879</td>\n",
       "    </tr>\n",
       "    <tr>\n",
       "      <th>1986</th>\n",
       "      <td>1.023383</td>\n",
       "      <td>0.078838</td>\n",
       "    </tr>\n",
       "    <tr>\n",
       "      <th>1987</th>\n",
       "      <td>1.022825</td>\n",
       "      <td>-0.000545</td>\n",
       "    </tr>\n",
       "    <tr>\n",
       "      <th>1988</th>\n",
       "      <td>0.986488</td>\n",
       "      <td>-0.036835</td>\n",
       "    </tr>\n",
       "    <tr>\n",
       "      <th>1989</th>\n",
       "      <td>0.971993</td>\n",
       "      <td>-0.014913</td>\n",
       "    </tr>\n",
       "    <tr>\n",
       "      <th>1990</th>\n",
       "      <td>1.005107</td>\n",
       "      <td>0.032946</td>\n",
       "    </tr>\n",
       "    <tr>\n",
       "      <th>1991</th>\n",
       "      <td>1.036678</td>\n",
       "      <td>0.030454</td>\n",
       "    </tr>\n",
       "    <tr>\n",
       "      <th>1992</th>\n",
       "      <td>1.063897</td>\n",
       "      <td>0.025585</td>\n",
       "    </tr>\n",
       "    <tr>\n",
       "      <th>1993</th>\n",
       "      <td>1.099159</td>\n",
       "      <td>0.032081</td>\n",
       "    </tr>\n",
       "    <tr>\n",
       "      <th>1994</th>\n",
       "      <td>1.123262</td>\n",
       "      <td>0.021458</td>\n",
       "    </tr>\n",
       "    <tr>\n",
       "      <th>1995</th>\n",
       "      <td>1.085874</td>\n",
       "      <td>-0.034432</td>\n",
       "    </tr>\n",
       "    <tr>\n",
       "      <th>1996</th>\n",
       "      <td>1.062359</td>\n",
       "      <td>-0.022135</td>\n",
       "    </tr>\n",
       "    <tr>\n",
       "      <th>1997</th>\n",
       "      <td>1.082734</td>\n",
       "      <td>0.018818</td>\n",
       "    </tr>\n",
       "    <tr>\n",
       "      <th>1998</th>\n",
       "      <td>1.138844</td>\n",
       "      <td>0.049270</td>\n",
       "    </tr>\n",
       "    <tr>\n",
       "      <th>1999</th>\n",
       "      <td>1.122043</td>\n",
       "      <td>-0.014974</td>\n",
       "    </tr>\n",
       "    <tr>\n",
       "      <th>2000</th>\n",
       "      <td>1.043572</td>\n",
       "      <td>-0.075194</td>\n",
       "    </tr>\n",
       "    <tr>\n",
       "      <th>2001</th>\n",
       "      <td>1.036701</td>\n",
       "      <td>-0.006628</td>\n",
       "    </tr>\n",
       "    <tr>\n",
       "      <th>2002</th>\n",
       "      <td>1.053648</td>\n",
       "      <td>0.016084</td>\n",
       "    </tr>\n",
       "    <tr>\n",
       "      <th>2003</th>\n",
       "      <td>1.057768</td>\n",
       "      <td>0.003895</td>\n",
       "    </tr>\n",
       "    <tr>\n",
       "      <th>2004</th>\n",
       "      <td>0.993986</td>\n",
       "      <td>-0.064169</td>\n",
       "    </tr>\n",
       "    <tr>\n",
       "      <th>2005</th>\n",
       "      <td>0.985778</td>\n",
       "      <td>-0.008326</td>\n",
       "    </tr>\n",
       "    <tr>\n",
       "      <th>2006</th>\n",
       "      <td>0.990101</td>\n",
       "      <td>0.004366</td>\n",
       "    </tr>\n",
       "    <tr>\n",
       "      <th>2007</th>\n",
       "      <td>0.985851</td>\n",
       "      <td>-0.004311</td>\n",
       "    </tr>\n",
       "    <tr>\n",
       "      <th>2008</th>\n",
       "      <td>1.019279</td>\n",
       "      <td>0.032796</td>\n",
       "    </tr>\n",
       "    <tr>\n",
       "      <th>2009</th>\n",
       "      <td>1.042952</td>\n",
       "      <td>0.022698</td>\n",
       "    </tr>\n",
       "    <tr>\n",
       "      <th>2010</th>\n",
       "      <td>1.069697</td>\n",
       "      <td>0.025002</td>\n",
       "    </tr>\n",
       "    <tr>\n",
       "      <th>2011</th>\n",
       "      <td>1.089700</td>\n",
       "      <td>0.018356</td>\n",
       "    </tr>\n",
       "    <tr>\n",
       "      <th>2012</th>\n",
       "      <td>1.100750</td>\n",
       "      <td>0.010039</td>\n",
       "    </tr>\n",
       "    <tr>\n",
       "      <th>2013</th>\n",
       "      <td>1.176392</td>\n",
       "      <td>0.064300</td>\n",
       "    </tr>\n",
       "    <tr>\n",
       "      <th>2014</th>\n",
       "      <td>1.238797</td>\n",
       "      <td>0.050376</td>\n",
       "    </tr>\n",
       "    <tr>\n",
       "      <th>2015</th>\n",
       "      <td>1.269890</td>\n",
       "      <td>0.024485</td>\n",
       "    </tr>\n",
       "    <tr>\n",
       "      <th>2016</th>\n",
       "      <td>1.300983</td>\n",
       "      <td>0.023900</td>\n",
       "    </tr>\n",
       "    <tr>\n",
       "      <th>2017</th>\n",
       "      <td>1.332076</td>\n",
       "      <td>0.023342</td>\n",
       "    </tr>\n",
       "    <tr>\n",
       "      <th>2018</th>\n",
       "      <td>1.363169</td>\n",
       "      <td>0.022809</td>\n",
       "    </tr>\n",
       "    <tr>\n",
       "      <th>2019</th>\n",
       "      <td>1.394263</td>\n",
       "      <td>0.022301</td>\n",
       "    </tr>\n",
       "    <tr>\n",
       "      <th>2020</th>\n",
       "      <td>1.425356</td>\n",
       "      <td>0.021814</td>\n",
       "    </tr>\n",
       "  </tbody>\n",
       "</table>\n",
       "</div>"
      ],
      "text/plain": [
       "         Value  year_change\n",
       "Date                       \n",
       "1981  0.928587          NaN\n",
       "1982  1.005902     0.076861\n",
       "1983  0.942771    -0.066963\n",
       "1984  0.947301     0.004782\n",
       "1985  0.942701    -0.004879\n",
       "1986  1.023383     0.078838\n",
       "1987  1.022825    -0.000545\n",
       "1988  0.986488    -0.036835\n",
       "1989  0.971993    -0.014913\n",
       "1990  1.005107     0.032946\n",
       "1991  1.036678     0.030454\n",
       "1992  1.063897     0.025585\n",
       "1993  1.099159     0.032081\n",
       "1994  1.123262     0.021458\n",
       "1995  1.085874    -0.034432\n",
       "1996  1.062359    -0.022135\n",
       "1997  1.082734     0.018818\n",
       "1998  1.138844     0.049270\n",
       "1999  1.122043    -0.014974\n",
       "2000  1.043572    -0.075194\n",
       "2001  1.036701    -0.006628\n",
       "2002  1.053648     0.016084\n",
       "2003  1.057768     0.003895\n",
       "2004  0.993986    -0.064169\n",
       "2005  0.985778    -0.008326\n",
       "2006  0.990101     0.004366\n",
       "2007  0.985851    -0.004311\n",
       "2008  1.019279     0.032796\n",
       "2009  1.042952     0.022698\n",
       "2010  1.069697     0.025002\n",
       "2011  1.089700     0.018356\n",
       "2012  1.100750     0.010039\n",
       "2013  1.176392     0.064300\n",
       "2014  1.238797     0.050376\n",
       "2015  1.269890     0.024485\n",
       "2016  1.300983     0.023900\n",
       "2017  1.332076     0.023342\n",
       "2018  1.363169     0.022809\n",
       "2019  1.394263     0.022301\n",
       "2020  1.425356     0.021814"
      ]
     },
     "execution_count": 6,
     "metadata": {},
     "output_type": "execute_result"
    }
   ],
   "source": [
    "data[\"year_change\"] = data[\"Value\"].diff()/data[\"Value\"] ### So, we have non-linear growth in the end.\n",
    "data"
   ]
  },
  {
   "cell_type": "code",
   "execution_count": 7,
   "id": "10c73c3e",
   "metadata": {},
   "outputs": [
    {
     "name": "stdout",
     "output_type": "stream",
     "text": [
      "0.0016744175624057302\n",
      "0.003649522517789186\n"
     ]
    }
   ],
   "source": [
    "quarterly_mean = np.mean(data[\"year_change\"].iloc[0:33])/4 ### To 33, because after that we were extrapolating.\n",
    "quarterly_sd = np.std(data[\"year_change\"].iloc[0:33])/10 ### We assume independent returns and then sum up the deviations.\n",
    "print(quarterly_mean)\n",
    "print(quarterly_sd)"
   ]
  },
  {
   "cell_type": "code",
   "execution_count": 8,
   "id": "c67c7648",
   "metadata": {
    "scrolled": true
   },
   "outputs": [
    {
     "name": "stdout",
     "output_type": "stream",
     "text": [
      "-0.015690042897001835\n",
      "0.0012011527936472343\n",
      "-0.001213801313302403\n",
      "0.021396402202024378\n",
      "-0.00013618997578850752\n",
      "-0.008881637066174782\n",
      "-0.003673430138025014\n",
      "0.008517116918088867\n",
      "0.007852515953754644\n",
      "0.006564173336642906\n",
      "0.008286000664582925\n",
      "0.00548222499077084\n",
      "-0.008321421313647914\n",
      "-0.005413808914358309\n",
      "0.0047946697977159485\n",
      "0.01295574796102339\n",
      "-0.003688248492731095\n",
      "-0.017483856347577122\n",
      "-0.0016461784379698142\n",
      "0.0040868273499969155\n",
      "0.0009776640663000397\n",
      "-0.01507486374976052\n",
      "-0.002064368023810225\n",
      "0.0010964050985086636\n",
      "-0.0010732137471761538\n",
      "0.008477128222900504\n",
      "0.0058063051242089915\n",
      "0.006410735572692084\n",
      "0.004674911969441212\n",
      "0.0025351985239470396\n",
      "0.01717952593184977\n",
      "0.013261964298143799\n"
     ]
    },
    {
     "data": {
      "text/plain": [
       "array([0.92858697, 0.94178708, 0.95398821, 0.98905562, 1.00590154,\n",
       "       0.97784503, 0.94634987, 0.91588665, 0.94277098, 0.93938598,\n",
       "       0.92865631, 0.93095348, 0.94730063, 0.93408027, 0.93666838,\n",
       "       0.91467671, 0.94270129, 0.98519699, 0.99518507, 1.02706991,\n",
       "       1.02338296, 1.03537877, 1.0315945 , 1.03044683, 1.02282546,\n",
       "       1.02238639, 1.01212937, 1.00308864, 0.986488  , 0.97497075,\n",
       "       0.98130262, 0.96937033, 0.97199282, 0.98647304, 0.98595219,\n",
       "       0.9935437 , 1.00510713, 1.02202035, 0.99856693, 1.0171425 ,\n",
       "       1.03667761, 1.05123435, 1.06144213, 1.06831962, 1.06389733,\n",
       "       1.06114812, 1.07868506, 1.09594503, 1.09915915, 1.09365461,\n",
       "       1.10022352, 1.1191403 , 1.1232625 , 1.11678586, 1.10415508,\n",
       "       1.09191438, 1.08587394, 1.05789944, 1.04768852, 1.04274392,\n",
       "       1.06235908, 1.0947099 , 1.09542428, 1.08593559, 1.08273372,\n",
       "       1.11044309, 1.13674306, 1.1311536 , 1.13884423, 1.1259496 ,\n",
       "       1.12157156, 1.13650313, 1.12204286, 1.08885345, 1.05998174,\n",
       "       1.04646872, 1.04357232, 1.05098195, 1.08173963, 1.07142335,\n",
       "       1.03670069, 1.04599548, 1.04710733, 1.07977399, 1.05364796,\n",
       "       1.04305665, 1.04154015, 1.04711747, 1.05776842, 1.03641277,\n",
       "       1.00945169, 1.02036112, 0.99398556, 1.01361208, 0.99648722,\n",
       "       0.98492255, 0.98577775, 0.97125177, 0.95992203, 0.96458084,\n",
       "       0.990101  , 0.98651211, 0.97885086, 0.96687874, 0.98585064,\n",
       "       0.9966958 , 1.00442474, 1.01834721, 1.01927937, 1.01773854,\n",
       "       1.01866768, 1.02559558, 1.04295235, 1.04788095, 1.0612213 ,\n",
       "       1.06183629, 1.06969672, 1.04432853, 1.0544272 , 1.08313942,\n",
       "       1.08969967, 1.09855993, 1.09938648, 1.0961915 , 1.10075009,\n",
       "       1.12539425, 1.15027308, 1.16516777, 1.17639155, 1.21334339,\n",
       "       1.2556374 , 1.25284567, 1.2387966 ])"
      ]
     },
     "execution_count": 8,
     "metadata": {},
     "output_type": "execute_result"
    }
   ],
   "source": [
    "yearly_values = data[\"Value\"].values\n",
    "monthly_values = [yearly_values[0]] ### We start with first year's value:\n",
    "our_mean = ((yearly_values[1] - yearly_values[0])/yearly_values[0])/4\n",
    "gen_numbers = np.random.normal(loc=our_mean, scale=our_std,size=3) ### Generate numbers using normal distribution.\n",
    "gen_numbers[0] = (1+ gen_numbers[0]) * yearly_values[0]\n",
    "gen_numbers[1] = (1+gen_numbers[1]) * gen_numbers[0]\n",
    "gen_numbers[2] = (1+gen_numbers[2]) * gen_numbers[1]\n",
    "monthly_values = np.concatenate([monthly_values,gen_numbers])\n",
    "i = 1\n",
    "while i<=32: ### 33 before we get identical 0.031 updates that were extrapolated. We do not consider extrapolated values here.\n",
    "    our_mean = ((yearly_values[i+1] - yearly_values[i])/yearly_values[i])/4\n",
    "    print(our_mean)\n",
    "    monthly_values = np.append(monthly_values,yearly_values[i]) ## Append next year\n",
    "    gen_numbers = np.random.normal(loc=our_mean, scale=our_std,size=3)   ### \n",
    "    gen_numbers[0] = (1 + gen_numbers[0]) * yearly_values[i]\n",
    "    gen_numbers[1] = (1 + gen_numbers[1]) * gen_numbers[0]\n",
    "    gen_numbers[2] = (1 + gen_numbers[2]) * gen_numbers[1]\n",
    "    \n",
    "    ## Generate numbers using normal distribution. + yearly_values adds to sum up.\n",
    "    monthly_values = np.concatenate([monthly_values,gen_numbers])\n",
    "    i+=1\n",
    "monthly_values = np.append(monthly_values,yearly_values[i]) ## Append next year\n",
    "monthly_values"
   ]
  },
  {
   "cell_type": "code",
   "execution_count": 9,
   "id": "7a1a3430",
   "metadata": {},
   "outputs": [
    {
     "data": {
      "text/plain": [
       "0.06792669039285659"
      ]
     },
     "execution_count": 9,
     "metadata": {},
     "output_type": "execute_result"
    }
   ],
   "source": [
    "np.std(monthly_values)"
   ]
  },
  {
   "cell_type": "code",
   "execution_count": 10,
   "id": "9521382d",
   "metadata": {},
   "outputs": [
    {
     "data": {
      "text/plain": [
       "array([ 0.01421527,  0.01295529,  0.03675875,  0.01703232, -0.0278919 ,\n",
       "       -0.03220875, -0.03219022,  0.02935334, -0.00359048, -0.011422  ,\n",
       "        0.00247365,  0.01755957, -0.01395582,  0.00277076, -0.02347861,\n",
       "        0.03063878,  0.04507865,  0.01013815,  0.03203911, -0.00358978,\n",
       "        0.01172172, -0.00365496, -0.00111252, -0.00739618, -0.00042927,\n",
       "       -0.01003244, -0.00893238, -0.01654953, -0.011675  ,  0.00649442,\n",
       "       -0.01215964,  0.00270535,  0.01489745, -0.00052799,  0.00769968,\n",
       "        0.01163857,  0.01682728, -0.02294809,  0.01860223,  0.01920587,\n",
       "        0.01404173,  0.00971027,  0.00647939, -0.00413948, -0.00258409,\n",
       "        0.01652638,  0.01600094,  0.00293273, -0.00500795,  0.00600638,\n",
       "        0.01719358,  0.00368337, -0.00576592, -0.01130994, -0.01108603,\n",
       "       -0.00553198, -0.0257622 , -0.00965207, -0.00471953,  0.0188111 ,\n",
       "        0.03045187,  0.00065257, -0.00866212, -0.00294848,  0.02559204,\n",
       "        0.02368422, -0.00491709,  0.00679892, -0.01132255, -0.00388831,\n",
       "        0.01331308, -0.01272347, -0.02957945, -0.02651571, -0.01274835,\n",
       "       -0.00276778,  0.00710026,  0.02926566, -0.00953675, -0.03240797,\n",
       "        0.00896574,  0.00106296,  0.03119705, -0.02419583, -0.01005204,\n",
       "       -0.0014539 ,  0.00535488,  0.01017168, -0.02018934, -0.02601384,\n",
       "        0.01080729, -0.02584925,  0.01974528, -0.01689489, -0.01160544,\n",
       "        0.00086829, -0.01473555, -0.01166509,  0.00485332,  0.02645725,\n",
       "       -0.00362477, -0.007766  , -0.01223079,  0.0196218 ,  0.01100082,\n",
       "        0.00775456,  0.01386115,  0.00091536, -0.00151168,  0.00091294,\n",
       "        0.00680094,  0.0169236 ,  0.00472562,  0.01273078,  0.00057952,\n",
       "        0.00740267, -0.02371531,  0.00967001,  0.02723016,  0.00605671,\n",
       "        0.00813091,  0.0007524 , -0.00290615,  0.00415858,  0.02238852,\n",
       "        0.02210677,  0.01294883,  0.00963276,  0.03141117,  0.03485741,\n",
       "       -0.00222336, -0.01121372])"
      ]
     },
     "execution_count": 10,
     "metadata": {},
     "output_type": "execute_result"
    }
   ],
   "source": [
    "empirical_growth = np.diff(monthly_values)/monthly_values[0:-1]\n",
    "empirical_growth"
   ]
  },
  {
   "cell_type": "code",
   "execution_count": 11,
   "id": "58ff092d",
   "metadata": {},
   "outputs": [
    {
     "name": "stdout",
     "output_type": "stream",
     "text": [
      "Mean: 0.0023177172943073536\n",
      "Standard deviation: 0.016252037012573804\n"
     ]
    }
   ],
   "source": [
    "quarterly_mean = np.mean(empirical_growth)\n",
    "quarterly_sd = np.std(empirical_growth) ### We assume independent returns and then sum up the deviations.\n",
    "print(\"Mean:\",quarterly_mean)\n",
    "print(\"Standard deviation:\",quarterly_sd)"
   ]
  },
  {
   "cell_type": "code",
   "execution_count": 12,
   "id": "eeaa6fda",
   "metadata": {
    "scrolled": true
   },
   "outputs": [
    {
     "data": {
      "text/plain": [
       "[0.9890556235090558,\n",
       " 0.9158866532260187,\n",
       " 0.9309534849420066,\n",
       " 0.9146767106327757,\n",
       " 1.0270699112381627,\n",
       " 1.0304468288812754,\n",
       " 1.0030886435482076,\n",
       " 0.9693703333297123,\n",
       " 0.9935437029998985,\n",
       " 1.0171425034756532,\n",
       " 1.068319621535394,\n",
       " 1.0959450348456443,\n",
       " 1.1191402963519097,\n",
       " 1.0919143818161752,\n",
       " 1.0427439188912935,\n",
       " 1.0859355886602204,\n",
       " 1.1311535982334893,\n",
       " 1.1365031327875632,\n",
       " 1.0464687180044634,\n",
       " 1.0714233466708392,\n",
       " 1.0797739914349316,\n",
       " 1.0471174682461273,\n",
       " 1.0203611244285637,\n",
       " 0.9849225478020404,\n",
       " 0.9645808384692619,\n",
       " 0.9668787375952381,\n",
       " 1.0183472145873798,\n",
       " 1.0255955810314912,\n",
       " 1.0618362949952918,\n",
       " 1.0831394157445478,\n",
       " 1.0961914961424877,\n",
       " 1.1651677728394607,\n",
       " 1.2528456686337202]"
      ]
     },
     "execution_count": 12,
     "metadata": {},
     "output_type": "execute_result"
    }
   ],
   "source": [
    "### Choose every fourth value:\n",
    "i = 4\n",
    "yearly = [monthly_values[3]]\n",
    "while i<len(monthly_values):\n",
    "    if i%4==3:\n",
    "        yearly.append(monthly_values[i])\n",
    "    \n",
    "    \n",
    "    i+=1\n",
    "yearly"
   ]
  },
  {
   "cell_type": "code",
   "execution_count": 13,
   "id": "ef041239",
   "metadata": {},
   "outputs": [
    {
     "name": "stdout",
     "output_type": "stream",
     "text": [
      "Mean: 1.0434376138235297\n",
      "Standard deviation: 0.06828127379580724\n",
      "And our values: Mean yearly: 1.0438648541069788\n",
      "And our values: STD yearly: 0.07204397939132712\n"
     ]
    }
   ],
   "source": [
    "yearly_mean1 = np.mean(yearly)\n",
    "yearly_sd1 = np.std(yearly) ### We assume independent returns and then sum up the deviations.\n",
    "print(\"Mean:\",np.mean(yearly_values[0:34]))\n",
    "print(\"Standard deviation:\",np.std(yearly_values[0:34]))\n",
    "print(\"And our values: Mean yearly:\",np.mean(yearly))\n",
    "print(\"And our values: STD yearly:\",np.std(yearly))\n"
   ]
  },
  {
   "cell_type": "code",
   "execution_count": 14,
   "id": "569e368a",
   "metadata": {},
   "outputs": [
    {
     "name": "stderr",
     "output_type": "stream",
     "text": [
      "WARNING:root:SKIPPED kstwo distribution (taking more than 30 seconds)\n",
      "WARNING:root:SKIPPED rv_continuous distribution (taking more than 30 seconds)\n",
      "WARNING:root:SKIPPED rv_histogram distribution (taking more than 30 seconds)\n",
      "WARNING:root:SKIPPED genexpon distribution (taking more than 30 seconds)\n",
      "WARNING:root:SKIPPED kappa4 distribution (taking more than 30 seconds)\n",
      "WARNING:root:SKIPPED levy_stable distribution (taking more than 30 seconds)\n",
      "WARNING:root:SKIPPED ncx2 distribution (taking more than 30 seconds)\n",
      "C:\\Users\\User\\.conda\\envs\\singularitynet\\lib\\site-packages\\scipy\\integrate\\quadpack.py:879: IntegrationWarning: The maximum number of subdivisions (50) has been achieved.\n",
      "  If increasing the limit yields no improvement it is advised to analyze \n",
      "  the integrand in order to determine the difficulties.  If the position of a \n",
      "  local difficulty can be determined (singularity, discontinuity) one will \n",
      "  probably gain from splitting up the interval and calling the integrator \n",
      "  on the subranges.  Perhaps a special-purpose integrator should be used.\n",
      "  quad_r = quad(f, low, high, args=args, full_output=self.full_output,\n",
      "WARNING:root:SKIPPED recipinvgauss distribution (taking more than 30 seconds)\n",
      "WARNING:root:SKIPPED studentized_range distribution (taking more than 30 seconds)\n",
      "C:\\Users\\User\\.conda\\envs\\singularitynet\\lib\\site-packages\\scipy\\integrate\\quadpack.py:879: IntegrationWarning: The integral is probably divergent, or slowly convergent.\n",
      "  quad_r = quad(f, low, high, args=args, full_output=self.full_output,\n",
      "WARNING:root:SKIPPED vonmises distribution (taking more than 30 seconds)\n",
      "WARNING:root:SKIPPED vonmises_line distribution (taking more than 30 seconds)\n"
     ]
    },
    {
     "data": {
      "text/html": [
       "<div>\n",
       "<style scoped>\n",
       "    .dataframe tbody tr th:only-of-type {\n",
       "        vertical-align: middle;\n",
       "    }\n",
       "\n",
       "    .dataframe tbody tr th {\n",
       "        vertical-align: top;\n",
       "    }\n",
       "\n",
       "    .dataframe thead th {\n",
       "        text-align: right;\n",
       "    }\n",
       "</style>\n",
       "<table border=\"1\" class=\"dataframe\">\n",
       "  <thead>\n",
       "    <tr style=\"text-align: right;\">\n",
       "      <th></th>\n",
       "      <th>sumsquare_error</th>\n",
       "      <th>aic</th>\n",
       "      <th>bic</th>\n",
       "      <th>kl_div</th>\n",
       "    </tr>\n",
       "  </thead>\n",
       "  <tbody>\n",
       "    <tr>\n",
       "      <th>dweibull</th>\n",
       "      <td>12753.539851</td>\n",
       "      <td>-431.304133</td>\n",
       "      <td>617.989019</td>\n",
       "      <td>inf</td>\n",
       "    </tr>\n",
       "    <tr>\n",
       "      <th>dgamma</th>\n",
       "      <td>12827.828744</td>\n",
       "      <td>-427.351194</td>\n",
       "      <td>618.755684</td>\n",
       "      <td>inf</td>\n",
       "    </tr>\n",
       "    <tr>\n",
       "      <th>loggamma</th>\n",
       "      <td>12964.917552</td>\n",
       "      <td>-438.390459</td>\n",
       "      <td>620.158861</td>\n",
       "      <td>inf</td>\n",
       "    </tr>\n",
       "    <tr>\n",
       "      <th>nct</th>\n",
       "      <td>12965.189658</td>\n",
       "      <td>-436.900110</td>\n",
       "      <td>625.044433</td>\n",
       "      <td>inf</td>\n",
       "    </tr>\n",
       "    <tr>\n",
       "      <th>powerlognorm</th>\n",
       "      <td>12965.566832</td>\n",
       "      <td>-437.232056</td>\n",
       "      <td>625.048273</td>\n",
       "      <td>inf</td>\n",
       "    </tr>\n",
       "  </tbody>\n",
       "</table>\n",
       "</div>"
      ],
      "text/plain": [
       "              sumsquare_error         aic         bic  kl_div\n",
       "dweibull         12753.539851 -431.304133  617.989019     inf\n",
       "dgamma           12827.828744 -427.351194  618.755684     inf\n",
       "loggamma         12964.917552 -438.390459  620.158861     inf\n",
       "nct              12965.189658 -436.900110  625.044433     inf\n",
       "powerlognorm     12965.566832 -437.232056  625.048273     inf"
      ]
     },
     "execution_count": 14,
     "metadata": {},
     "output_type": "execute_result"
    },
    {
     "name": "stderr",
     "output_type": "stream",
     "text": [
      "C:\\Users\\User\\.conda\\envs\\singularitynet\\lib\\site-packages\\scipy\\integrate\\quadpack.py:879: IntegrationWarning: The occurrence of roundoff error is detected, which prevents \n",
      "  the requested tolerance from being achieved.  The error may be \n",
      "  underestimated.\n",
      "  quad_r = quad(f, low, high, args=args, full_output=self.full_output,\n",
      "C:\\Users\\User\\.conda\\envs\\singularitynet\\lib\\site-packages\\scipy\\integrate\\quadpack.py:879: IntegrationWarning: The maximum number of subdivisions (50) has been achieved.\n",
      "  If increasing the limit yields no improvement it is advised to analyze \n",
      "  the integrand in order to determine the difficulties.  If the position of a \n",
      "  local difficulty can be determined (singularity, discontinuity) one will \n",
      "  probably gain from splitting up the interval and calling the integrator \n",
      "  on the subranges.  Perhaps a special-purpose integrator should be used.\n",
      "  quad_r = quad(f, low, high, args=args, full_output=self.full_output,\n"
     ]
    },
    {
     "data": {
      "image/png": "[encoded data removed]",
      "text/plain": [
       "<Figure size 432x288 with 1 Axes>"
      ]
     },
     "metadata": {
      "needs_background": "light"
     },
     "output_type": "display_data"
    }
   ],
   "source": [
    "f = Fitter(empirical_growth)\n",
    "f.fit()\n",
    "f.summary()"
   ]
  },
  {
   "cell_type": "code",
   "execution_count": 17,
   "id": "8b0190cf",
   "metadata": {},
   "outputs": [
    {
     "data": {
      "text/plain": [
       "(1.3222055880421635, 0.001986686906958109, 0.014177981934773431)"
      ]
     },
     "execution_count": 17,
     "metadata": {},
     "output_type": "execute_result"
    }
   ],
   "source": [
    "### It seems that dGamma distribution iss the best. \n",
    "f.fitted_param['dweibull']"
   ]
  },
  {
   "cell_type": "code",
   "execution_count": 16,
   "id": "7a27362b",
   "metadata": {
    "scrolled": true
   },
   "outputs": [
    {
     "ename": "TypeError",
     "evalue": "_parse_args_rvs() got multiple values for argument 'size'",
     "output_type": "error",
     "traceback": [
      "\u001b[1;31m---------------------------------------------------------------------------\u001b[0m",
      "\u001b[1;31mTypeError\u001b[0m                                 Traceback (most recent call last)",
      "\u001b[1;32m<ipython-input-16-42ba490ee01e>\u001b[0m in \u001b[0;36m<module>\u001b[1;34m\u001b[0m\n\u001b[1;32m----> 1\u001b[1;33m \u001b[0msimulate\u001b[0m \u001b[1;33m=\u001b[0m \u001b[0mstats\u001b[0m\u001b[1;33m.\u001b[0m\u001b[0mdweibull\u001b[0m\u001b[1;33m.\u001b[0m\u001b[0mrvs\u001b[0m\u001b[1;33m(\u001b[0m\u001b[1;36m3.261859139915803\u001b[0m\u001b[1;33m,\u001b[0m \u001b[1;36m85.92851112192076\u001b[0m\u001b[1;33m,\u001b[0m \u001b[1;33m-\u001b[0m\u001b[1;36m0.04548371215544178\u001b[0m\u001b[1;33m,\u001b[0m \u001b[1;36m0.20840219041781127\u001b[0m\u001b[1;33m,\u001b[0m \u001b[0msize\u001b[0m\u001b[1;33m=\u001b[0m\u001b[1;36m200\u001b[0m\u001b[1;33m)\u001b[0m\u001b[1;33m\u001b[0m\u001b[1;33m\u001b[0m\u001b[0m\n\u001b[0m\u001b[0;32m      2\u001b[0m \u001b[0mprint\u001b[0m\u001b[1;33m(\u001b[0m\u001b[0msimulate\u001b[0m\u001b[1;33m)\u001b[0m\u001b[1;33m\u001b[0m\u001b[1;33m\u001b[0m\u001b[0m\n\u001b[0;32m      3\u001b[0m \u001b[0mplt\u001b[0m\u001b[1;33m.\u001b[0m\u001b[0mhist\u001b[0m\u001b[1;33m(\u001b[0m\u001b[0msimulate\u001b[0m\u001b[1;33m,\u001b[0m \u001b[0mdensity\u001b[0m\u001b[1;33m=\u001b[0m\u001b[1;32mTrue\u001b[0m\u001b[1;33m,\u001b[0m \u001b[0mbins\u001b[0m\u001b[1;33m=\u001b[0m\u001b[1;36m10\u001b[0m\u001b[1;33m)\u001b[0m  \u001b[1;31m# density=False would make counts\u001b[0m\u001b[1;33m\u001b[0m\u001b[1;33m\u001b[0m\u001b[0m\n",
      "\u001b[1;32m~\\.conda\\envs\\singularitynet\\lib\\site-packages\\scipy\\stats\\_distn_infrastructure.py\u001b[0m in \u001b[0;36mrvs\u001b[1;34m(self, *args, **kwds)\u001b[0m\n\u001b[0;32m   1062\u001b[0m         \u001b[0mdiscrete\u001b[0m \u001b[1;33m=\u001b[0m \u001b[0mkwds\u001b[0m\u001b[1;33m.\u001b[0m\u001b[0mpop\u001b[0m\u001b[1;33m(\u001b[0m\u001b[1;34m'discrete'\u001b[0m\u001b[1;33m,\u001b[0m \u001b[1;32mNone\u001b[0m\u001b[1;33m)\u001b[0m\u001b[1;33m\u001b[0m\u001b[1;33m\u001b[0m\u001b[0m\n\u001b[0;32m   1063\u001b[0m         \u001b[0mrndm\u001b[0m \u001b[1;33m=\u001b[0m \u001b[0mkwds\u001b[0m\u001b[1;33m.\u001b[0m\u001b[0mpop\u001b[0m\u001b[1;33m(\u001b[0m\u001b[1;34m'random_state'\u001b[0m\u001b[1;33m,\u001b[0m \u001b[1;32mNone\u001b[0m\u001b[1;33m)\u001b[0m\u001b[1;33m\u001b[0m\u001b[1;33m\u001b[0m\u001b[0m\n\u001b[1;32m-> 1064\u001b[1;33m         \u001b[0margs\u001b[0m\u001b[1;33m,\u001b[0m \u001b[0mloc\u001b[0m\u001b[1;33m,\u001b[0m \u001b[0mscale\u001b[0m\u001b[1;33m,\u001b[0m \u001b[0msize\u001b[0m \u001b[1;33m=\u001b[0m \u001b[0mself\u001b[0m\u001b[1;33m.\u001b[0m\u001b[0m_parse_args_rvs\u001b[0m\u001b[1;33m(\u001b[0m\u001b[1;33m*\u001b[0m\u001b[0margs\u001b[0m\u001b[1;33m,\u001b[0m \u001b[1;33m**\u001b[0m\u001b[0mkwds\u001b[0m\u001b[1;33m)\u001b[0m\u001b[1;33m\u001b[0m\u001b[1;33m\u001b[0m\u001b[0m\n\u001b[0m\u001b[0;32m   1065\u001b[0m         \u001b[0mcond\u001b[0m \u001b[1;33m=\u001b[0m \u001b[0mlogical_and\u001b[0m\u001b[1;33m(\u001b[0m\u001b[0mself\u001b[0m\u001b[1;33m.\u001b[0m\u001b[0m_argcheck\u001b[0m\u001b[1;33m(\u001b[0m\u001b[1;33m*\u001b[0m\u001b[0margs\u001b[0m\u001b[1;33m)\u001b[0m\u001b[1;33m,\u001b[0m \u001b[1;33m(\u001b[0m\u001b[0mscale\u001b[0m \u001b[1;33m>=\u001b[0m \u001b[1;36m0\u001b[0m\u001b[1;33m)\u001b[0m\u001b[1;33m)\u001b[0m\u001b[1;33m\u001b[0m\u001b[1;33m\u001b[0m\u001b[0m\n\u001b[0;32m   1066\u001b[0m         \u001b[1;32mif\u001b[0m \u001b[1;32mnot\u001b[0m \u001b[0mnp\u001b[0m\u001b[1;33m.\u001b[0m\u001b[0mall\u001b[0m\u001b[1;33m(\u001b[0m\u001b[0mcond\u001b[0m\u001b[1;33m)\u001b[0m\u001b[1;33m:\u001b[0m\u001b[1;33m\u001b[0m\u001b[1;33m\u001b[0m\u001b[0m\n",
      "\u001b[1;31mTypeError\u001b[0m: _parse_args_rvs() got multiple values for argument 'size'"
     ]
    }
   ],
   "source": [
    "simulate = stats.dweibull.rvs(1.3222055880421635, 0.001986686906958109, 0.014177981934773431, size=200)    \n",
    "print(simulate)\n",
    "plt.hist(simulate, density=True, bins=10)  # density=False would make counts"
   ]
  },
  {
   "cell_type": "code",
   "execution_count": 18,
   "id": "9352f6f8",
   "metadata": {},
   "outputs": [
    {
     "name": "stdout",
     "output_type": "stream",
     "text": [
      "[[-0.00153457  0.0156003   0.00924501 ...  0.01960636 -0.01003696\n",
      "   0.01959365]\n",
      " [-0.00685742  0.01313647 -0.00637089 ... -0.04564809  0.02750037\n",
      "   0.04188001]\n",
      " [-0.01144466 -0.00566259 -0.00020466 ...  0.0120984   0.00394586\n",
      "   0.00762576]\n",
      " ...\n",
      " [ 0.00837792  0.00649776  0.01902688 ...  0.0007873   0.00936566\n",
      "   0.01301461]\n",
      " [ 0.0016017  -0.00233664  0.0309806  ...  0.01429419 -0.00986938\n",
      "   0.05123375]\n",
      " [-0.00793658  0.0090856  -0.01568352 ...  0.00887946 -0.04088443\n",
      "   0.01051493]]\n"
     ]
    }
   ],
   "source": [
    "simulate = stats.dweibull.rvs(1.3222055880421635, 0.001986686906958109, 0.014177981934773431, size=[40,10000])    \n",
    "print(simulate)"
   ]
  },
  {
   "cell_type": "code",
   "execution_count": 19,
   "id": "58b6c0ee",
   "metadata": {},
   "outputs": [],
   "source": [
    "simulate[0,:] = 1 + simulate[0,:]\n",
    "i = 1\n",
    "while i<len(simulate[:,0]):\n",
    "    simulate[i,:] = simulate[i-1,:] * (1 + simulate[i,:])\n",
    "    i+=1"
   ]
  },
  {
   "cell_type": "code",
   "execution_count": 20,
   "id": "c3ae0b21",
   "metadata": {},
   "outputs": [],
   "source": [
    "avg_values = []\n",
    "lower_conf = []\n",
    "upper_conf = []\n",
    "min_values = []\n",
    "max_values = []\n",
    "\n",
    "i = 0\n",
    "while i<40:\n",
    "    avg_values.append(np.mean(simulate[i,:]))\n",
    "    lower_conf.append(np.sort(simulate[i,:])[250])\n",
    "    upper_conf.append(np.sort(simulate[i,:])[9750])\n",
    "    min_values.append(min(simulate[i,:]))\n",
    "    max_values.append(max(simulate[i,:]))\n",
    "    i+=1"
   ]
  },
  {
   "cell_type": "markdown",
   "id": "49d84ddf",
   "metadata": {},
   "source": [
    "# Results"
   ]
  },
  {
   "cell_type": "code",
   "execution_count": 21,
   "id": "f25ef224",
   "metadata": {},
   "outputs": [
    {
     "data": {
      "image/png": "[encoded data removed]",
      "text/plain": [
       "<Figure size 432x288 with 1 Axes>"
      ]
     },
     "metadata": {
      "needs_background": "light"
     },
     "output_type": "display_data"
    }
   ],
   "source": [
    "import matplotlib.pyplot as plt\n",
    "\n",
    "# Define data values\n",
    "x = range(1,41)\n",
    "\n",
    "\n",
    "# Plot a simple line chart\n",
    "plt.plot(x, avg_values,color =\"b\")\n",
    "\n",
    "# Plot lower confidence interval\n",
    "plt.plot(x, lower_conf,color =\"r\")\n",
    "# Plot upper confidence interval\n",
    "plt.plot(x, upper_conf,color =\"r\")\n",
    "plt.legend([\"Average index growth\",\"Lower bound\",\"Upper bound\"],loc = \"upper left\")\n",
    "# naming the x axis\n",
    "plt.xlabel('Quarter 1-40')\n",
    "# naming the y axis\n",
    "plt.ylabel('Index value')\n",
    "plt.title(\"Index with 10.000 simulated runs, average and upper/lower bound for index given its past values\")\n",
    "plt.show()\n"
   ]
  },
  {
   "cell_type": "markdown",
   "id": "0986a464",
   "metadata": {},
   "source": [
    "And just for visualisation, plot of average growth of index:"
   ]
  },
  {
   "cell_type": "code",
   "execution_count": 22,
   "id": "a79fec74",
   "metadata": {},
   "outputs": [
    {
     "data": {
      "image/png": "[encoded data removed]",
      "text/plain": [
       "<Figure size 432x288 with 1 Axes>"
      ]
     },
     "metadata": {
      "needs_background": "light"
     },
     "output_type": "display_data"
    }
   ],
   "source": [
    "# Define data values\n",
    "x = range(1,41)\n",
    "\n",
    "plt.title(\"Average index with 10.000 simulated runs\")\n",
    "\n",
    "# Plot a simple line chart\n",
    "plt.plot(x, avg_values,color =\"b\")\n",
    "# naming the x axis\n",
    "plt.xlabel('Quarter 1-40')\n",
    "# naming the y axis\n",
    "plt.ylabel('Index value')\n",
    "plt.show()\n"
   ]
  },
  {
   "cell_type": "markdown",
   "id": "6dcf898c",
   "metadata": {},
   "source": [
    "And now a randomly generated index:"
   ]
  },
  {
   "cell_type": "code",
   "execution_count": 23,
   "id": "144ddb37",
   "metadata": {},
   "outputs": [
    {
     "data": {
      "image/png": "[encoded data removed]",
      "text/plain": [
       "<Figure size 432x288 with 1 Axes>"
      ]
     },
     "metadata": {
      "needs_background": "light"
     },
     "output_type": "display_data"
    }
   ],
   "source": [
    "plt.title(\"Randomly generated index\")\n",
    "\n",
    "# Plot a simple line chart\n",
    "plt.plot(x, simulate[:,5000],color =\"b\")\n",
    "# naming the x axis\n",
    "plt.xlabel('Quarter 1-40')\n",
    "# naming the y axis\n",
    "plt.ylabel('Index value')\n",
    "plt.show()"
   ]
  },
  {
   "cell_type": "code",
   "execution_count": 24,
   "id": "451d07a9",
   "metadata": {},
   "outputs": [],
   "source": [
    "lower10 = []\n",
    "upper10 = []\n",
    "\n",
    "\n",
    "i = 0\n",
    "while i<40:\n",
    "    lower10.append(np.sort(simulate[i,:])[1000])\n",
    "    upper10.append(np.sort(simulate[i,:])[9000])\n",
    "    i+=1"
   ]
  },
  {
   "cell_type": "code",
   "execution_count": 25,
   "id": "3a421aed",
   "metadata": {},
   "outputs": [
    {
     "data": {
      "image/png": "[encoded data removed]",
      "text/plain": [
       "<Figure size 432x288 with 1 Axes>"
      ]
     },
     "metadata": {
      "needs_background": "light"
     },
     "output_type": "display_data"
    }
   ],
   "source": [
    "\n",
    "# Plot a simple line chart\n",
    "plt.plot(x, avg_values,color =\"b\")\n",
    "\n",
    "# Plot lower confidence interval\n",
    "plt.plot(x, lower10,color =\"r\")\n",
    "# Plot upper confidence interval\n",
    "plt.plot(x, upper10,color =\"r\")\n",
    "plt.legend([\"Average index growth\",\"Lower 10%\",\"Upper 10%\"],loc = \"upper left\")\n",
    "# naming the x axis\n",
    "plt.xlabel('Quarter 1-40')\n",
    "# naming the y axis\n",
    "plt.ylabel('Index value')\n",
    "plt.title(\"Index with 10.000 simulated runs, average and upper/lower 10% observations for index given its past values\")\n",
    "plt.show()\n"
   ]
  },
  {
   "cell_type": "code",
   "execution_count": null,
   "id": "2c3d1394",
   "metadata": {},
   "outputs": [],
   "source": []
  }
 ],
 "metadata": {
  "kernelspec": {
   "display_name": "Python 3",
   "language": "python",
   "name": "python3"
  },
  "language_info": {
   "codemirror_mode": {
    "name": "ipython",
    "version": 3
   },
   "file_extension": ".py",
   "mimetype": "text/x-python",
   "name": "python",
   "nbconvert_exporter": "python",
   "pygments_lexer": "ipython3",
   "version": "3.8.10"
  }
 },
 "nbformat": 4,
 "nbformat_minor": 5
}
