{
 "cells": [
  {
   "cell_type": "code",
   "execution_count": null,
   "id": "56e612bc",
   "metadata": {},
   "outputs": [],
   "source": []
  },
  {
   "cell_type": "code",
   "execution_count": null,
   "id": "0283215b",
   "metadata": {},
   "outputs": [],
   "source": [
    "from simulate_returns import * \n",
    "import numpy as np\n",
    "import matplotlib.pyplot as plt\n",
    "import math\n"
   ]
  },
  {
   "cell_type": "code",
   "execution_count": null,
   "id": "d8eec6f8",
   "metadata": {},
   "outputs": [],
   "source": [
    "T = 24*365*5\n",
    "### Low returns:\n",
    "start_rate = np.random.uniform(0.015,0.03) \n",
    "market_time,market_sentiment,b_value_low,r_t_low,default_prob_low,returns_low,low_hack = sim_returns(starting_b_value = np.random.uniform(0.015,0.03),low_bound_b = 0.015,upper_bound_b = 0.03,ltr_vol_std = 0.15, probability_of_default = 0.0050913349, ltr_default_prob = 0.00449325 , starting_staking_rate = start_rate, r_t_sigma = 8 , sigma_market_time = 2 , max_prob = 0.4)\n",
    "start_rate = np.random.uniform(0.03,0.05)\n",
    "b_value_mid,r_t_mid,default_prob_mid,returns_mid,mid_hack = sim_returns_known_sent(market_time,market_sentiment,starting_b_value = np.random.uniform(0.03,0.05),low_bound_b = 0.03,upper_bound_b = 0.05 , probability_of_default = 0.02940694, ltr_default_prob = 0.018188597 , starting_staking_rate =start_rate , r_t_sigma = 10 , max_prob = 0.4)\n",
    "start_rate = np.random.uniform(0.07,0.1)\n",
    "b_value_high,r_t_high,default_prob_high,returns_high, high_hack = sim_returns_known_sent(market_time,market_sentiment,starting_b_value = np.random.uniform(0.07,0.1),low_bound_b = 0.07,upper_bound_b = 0.1, probability_of_default = 0.13147627, ltr_default_prob = 0.0985713 , starting_staking_rate = start_rate, r_t_sigma = 12 , max_prob = 0.4)\n"
   ]
  },
  {
   "cell_type": "code",
   "execution_count": null,
   "id": "55b0986f",
   "metadata": {},
   "outputs": [],
   "source": []
  },
  {
   "cell_type": "code",
   "execution_count": null,
   "id": "437931ed",
   "metadata": {},
   "outputs": [],
   "source": []
  },
  {
   "cell_type": "code",
   "execution_count": null,
   "id": "3e95cc59",
   "metadata": {},
   "outputs": [],
   "source": []
  }
 ],
 "metadata": {
  "kernelspec": {
   "display_name": "Python 3",
   "language": "python",
   "name": "python3"
  },
  "language_info": {
   "codemirror_mode": {
    "name": "ipython",
    "version": 3
   },
   "file_extension": ".py",
   "mimetype": "text/x-python",
   "name": "python",
   "nbconvert_exporter": "python",
   "pygments_lexer": "ipython3",
   "version": "3.8.10"
  }
 },
 "nbformat": 4,
 "nbformat_minor": 5
}
