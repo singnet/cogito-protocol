{
 "cells": [
  {
   "cell_type": "code",
   "execution_count": null,
   "id": "7cd6eacf",
   "metadata": {},
   "outputs": [],
   "source": []
  },
  {
   "cell_type": "code",
   "execution_count": 1,
   "id": "6127e38f",
   "metadata": {},
   "outputs": [],
   "source": [
    "from simulate_returns import * \n",
    "import numpy as np\n",
    "import matplotlib.pyplot as plt\n",
    "import math\n",
    "from helper_growth import * "
   ]
  },
  {
   "cell_type": "code",
   "execution_count": 2,
   "id": "66c4e487",
   "metadata": {},
   "outputs": [
    {
     "name": "stdout",
     "output_type": "stream",
     "text": [
      "0.0 % done\n",
      "1.0 % done\n",
      "2.0 % done\n",
      "3.0 % done\n",
      "4.0 % done\n",
      "5.0 % done\n",
      "6.0 % done\n",
      "7.000000000000001 % done\n",
      "8.0 % done\n",
      "9.0 % done\n",
      "10.0 % done\n",
      "11.0 % done\n",
      "12.0 % done\n",
      "13.0 % done\n",
      "14.000000000000002 % done\n",
      "15.0 % done\n",
      "16.0 % done\n",
      "17.0 % done\n",
      "18.0 % done\n",
      "19.0 % done\n",
      "20.0 % done\n",
      "21.0 % done\n",
      "22.0 % done\n",
      "23.0 % done\n",
      "24.0 % done\n",
      "25.0 % done\n",
      "26.0 % done\n",
      "27.0 % done\n",
      "28.000000000000004 % done\n",
      "28.999999999999996 % done\n",
      "30.0 % done\n",
      "31.0 % done\n",
      "32.0 % done\n"
     ]
    },
    {
     "ename": "KeyboardInterrupt",
     "evalue": "",
     "output_type": "error",
     "traceback": [
      "\u001b[1;31m---------------------------------------------------------------------------\u001b[0m",
      "\u001b[1;31mKeyboardInterrupt\u001b[0m                         Traceback (most recent call last)",
      "Input \u001b[1;32mIn [2]\u001b[0m, in \u001b[0;36m<cell line: 10>\u001b[1;34m()\u001b[0m\n\u001b[0;32m     10\u001b[0m \u001b[38;5;28;01mwhile\u001b[39;00m i\u001b[38;5;241m<\u001b[39mN:\n\u001b[0;32m     11\u001b[0m     all_usage[i] \u001b[38;5;241m=\u001b[39m usage_sim(sigma_usage\u001b[38;5;241m=\u001b[39m\u001b[38;5;241m1\u001b[39m)\n\u001b[1;32m---> 12\u001b[0m     market_time,market_sentiment,b_value,r_t,default_prob,returns \u001b[38;5;241m=\u001b[39m \u001b[43msim_returns\u001b[49m\u001b[43m(\u001b[49m\u001b[43mstarting_b_value\u001b[49m\u001b[43m \u001b[49m\u001b[38;5;241;43m=\u001b[39;49m\u001b[43m \u001b[49m\u001b[38;5;241;43m0.03\u001b[39;49m\u001b[43m,\u001b[49m\u001b[43mlow_bound_b\u001b[49m\u001b[43m \u001b[49m\u001b[38;5;241;43m=\u001b[39;49m\u001b[43m \u001b[49m\u001b[38;5;241;43m0.03\u001b[39;49m\u001b[43m,\u001b[49m\u001b[43mupper_bound_b\u001b[49m\u001b[43m \u001b[49m\u001b[38;5;241;43m=\u001b[39;49m\u001b[43m \u001b[49m\u001b[38;5;241;43m0.05\u001b[39;49m\u001b[43m,\u001b[49m\u001b[43mltr_vol_std\u001b[49m\u001b[43m \u001b[49m\u001b[38;5;241;43m=\u001b[39;49m\u001b[43m \u001b[49m\u001b[38;5;241;43m0.1\u001b[39;49m\u001b[43m,\u001b[49m\u001b[43m \u001b[49m\u001b[43mprobability_of_default\u001b[49m\u001b[43m \u001b[49m\u001b[38;5;241;43m=\u001b[39;49m\u001b[43m \u001b[49m\u001b[38;5;241;43m0.02\u001b[39;49m\u001b[43m,\u001b[49m\u001b[43m \u001b[49m\u001b[43mltr_default_prob\u001b[49m\u001b[43m \u001b[49m\u001b[38;5;241;43m=\u001b[39;49m\u001b[43m \u001b[49m\u001b[38;5;241;43m0.005\u001b[39;49m\u001b[43m \u001b[49m\u001b[43m,\u001b[49m\u001b[43m \u001b[49m\u001b[43mstarting_staking_rate\u001b[49m\u001b[43m \u001b[49m\u001b[38;5;241;43m=\u001b[39;49m\u001b[43m \u001b[49m\u001b[38;5;241;43m0.03\u001b[39;49m\u001b[43m,\u001b[49m\u001b[43m \u001b[49m\u001b[43mr_t_sigma\u001b[49m\u001b[43m \u001b[49m\u001b[38;5;241;43m=\u001b[39;49m\u001b[43m \u001b[49m\u001b[38;5;241;43m0.025\u001b[39;49m\u001b[43m \u001b[49m\u001b[43m,\u001b[49m\u001b[43m \u001b[49m\u001b[43msigma_market_time\u001b[49m\u001b[43m \u001b[49m\u001b[38;5;241;43m=\u001b[39;49m\u001b[43m \u001b[49m\u001b[38;5;241;43m2\u001b[39;49m\u001b[43m \u001b[49m\u001b[43m,\u001b[49m\u001b[43m \u001b[49m\u001b[43mmax_prob\u001b[49m\u001b[43m \u001b[49m\u001b[38;5;241;43m=\u001b[39;49m\u001b[43m \u001b[49m\u001b[38;5;241;43m0.4\u001b[39;49m\u001b[43m)\u001b[49m\n\u001b[0;32m     13\u001b[0m     all_growth[i] \u001b[38;5;241m=\u001b[39m network_growth(market_sentiment,r_t,starting_worth \u001b[38;5;241m=\u001b[39m \u001b[38;5;241m25\u001b[39m\u001b[38;5;241m*\u001b[39m\u001b[38;5;241m10\u001b[39m\u001b[38;5;241m*\u001b[39m\u001b[38;5;241m*\u001b[39m\u001b[38;5;241m6\u001b[39m, deposit_rate \u001b[38;5;241m=\u001b[39m r_t, CAR  \u001b[38;5;241m=\u001b[39m \u001b[38;5;241m0.98\u001b[39m,usage_growth \u001b[38;5;241m=\u001b[39m all_usage[i], stakers_share \u001b[38;5;241m=\u001b[39m np\u001b[38;5;241m.\u001b[39mzeros(\u001b[38;5;28mint\u001b[39m(T\u001b[38;5;241m*\u001b[39m\u001b[38;5;241m10\u001b[39m)) \u001b[38;5;241m+\u001b[39m \u001b[38;5;241m.15\u001b[39m,index_appreciation \u001b[38;5;241m=\u001b[39m index_growth[i])\n\u001b[0;32m     15\u001b[0m     \u001b[38;5;28;01mif\u001b[39;00m i\u001b[38;5;241m%\u001b[39m\u001b[38;5;241m100\u001b[39m\u001b[38;5;241m==\u001b[39m\u001b[38;5;241m0\u001b[39m:\n",
      "File \u001b[1;32mW:\\Cogito\\GITHUB\\cogito-financial-modeling\\financial_modeling\\growth_modeling\\simulate_returns.py:115\u001b[0m, in \u001b[0;36msim_returns\u001b[1;34m(starting_b_value, low_bound_b, upper_bound_b, ltr_vol_std, probability_of_default, ltr_default_prob, starting_staking_rate, r_t_sigma, sigma_market_time, max_prob, sigma_b)\u001b[0m\n\u001b[0;32m    113\u001b[0m     default_prob_summed[t] \u001b[38;5;241m=\u001b[39m default_prob[t] \u001b[38;5;241m+\u001b[39m ltr_default_prob\n\u001b[0;32m    114\u001b[0m     uniform_prob \u001b[38;5;241m=\u001b[39m np\u001b[38;5;241m.\u001b[39mrandom\u001b[38;5;241m.\u001b[39muniform(\u001b[38;5;241m0\u001b[39m,\u001b[38;5;241m1\u001b[39m)\n\u001b[1;32m--> 115\u001b[0m     returns[t] \u001b[38;5;241m=\u001b[39m returns[t\u001b[38;5;241m-\u001b[39m\u001b[38;5;241m1\u001b[39m] \u001b[38;5;241m+\u001b[39m returns[t\u001b[38;5;241m-\u001b[39m\u001b[38;5;241m1\u001b[39m] \u001b[38;5;241m*\u001b[39m r_t[t] \u001b[38;5;241m*\u001b[39m year \u001b[38;5;241m-\u001b[39m \u001b[43mcatastrophic_event\u001b[49m\u001b[43m(\u001b[49m\u001b[43m(\u001b[49m\u001b[43mdefault_prob_summed\u001b[49m\u001b[43m[\u001b[49m\u001b[43mt\u001b[49m\u001b[43m]\u001b[49m\u001b[43m)\u001b[49m\u001b[38;5;241;43m*\u001b[39;49m\u001b[43myear\u001b[49m\u001b[43m)\u001b[49m \u001b[38;5;241m*\u001b[39m loss_share(max_prob)\u001b[38;5;241m*\u001b[39mreturns[t\u001b[38;5;241m-\u001b[39m\u001b[38;5;241m1\u001b[39m]\n\u001b[0;32m    117\u001b[0m     t\u001b[38;5;241m+\u001b[39m\u001b[38;5;241m=\u001b[39m\u001b[38;5;241m1\u001b[39m\n\u001b[0;32m    118\u001b[0m \u001b[38;5;28;01mreturn\u001b[39;00m(market_time,long_term_avg_stake,b_value,r_t,default_prob_summed,returns)\n",
      "File \u001b[1;32mW:\\Cogito\\GITHUB\\cogito-financial-modeling\\financial_modeling\\growth_modeling\\simulate_returns.py:16\u001b[0m, in \u001b[0;36mcatastrophic_event\u001b[1;34m(probability)\u001b[0m\n\u001b[0;32m     14\u001b[0m \u001b[38;5;28;01mdef\u001b[39;00m \u001b[38;5;21mcatastrophic_event\u001b[39m(probability):\n\u001b[0;32m     15\u001b[0m     rand_nr \u001b[38;5;241m=\u001b[39m np\u001b[38;5;241m.\u001b[39mrandom\u001b[38;5;241m.\u001b[39muniform(\u001b[38;5;241m0\u001b[39m,\u001b[38;5;241m1\u001b[39m)\n\u001b[1;32m---> 16\u001b[0m     \u001b[38;5;28;01mif\u001b[39;00m \u001b[43mrand_nr\u001b[49m\u001b[43m \u001b[49m\u001b[38;5;241;43m<\u001b[39;49m\u001b[43m \u001b[49m\u001b[43mprobability\u001b[49m:\n\u001b[0;32m     17\u001b[0m         \u001b[38;5;28;01mreturn\u001b[39;00m(\u001b[38;5;241m1\u001b[39m)\n\u001b[0;32m     18\u001b[0m     \u001b[38;5;28;01melse\u001b[39;00m:\n",
      "\u001b[1;31mKeyboardInterrupt\u001b[0m: "
     ]
    }
   ],
   "source": [
    "### Here we make 10.000 simulations of our returns and then make simple statistics out of them:\n",
    "i = 0\n",
    "N=10000\n",
    "T = 24*365*5\n",
    "all_growth = np.zeros((N, T))\n",
    "all_usage = np.zeros((N, T))\n",
    "\n",
    "index_growth, index_sim, price = simulate_index(N=N)\n",
    "\n",
    "while i<N:\n",
    "    all_usage[i] = usage_sim(sigma_usage=1)\n",
    "    market_time,market_sentiment,b_value,r_t,default_prob,returns = sim_returns(starting_b_value = 0.03,low_bound_b = 0.03,upper_bound_b = 0.05,ltr_vol_std = 0.1, probability_of_default = 0.02, ltr_default_prob = 0.005 , starting_staking_rate = 0.03, r_t_sigma = 0.025 , sigma_market_time = 2 , max_prob = 0.4)\n",
    "    all_growth[i] = network_growth(market_sentiment,r_t, deposit_rate = r_t, CAR  = 0.98,usage_growth = all_usage[i], stakers_share = np.zeros(int(T*10)) + .15,index_appreciation = index_growth[i])\n",
    "    \n",
    "    if i%100==0:\n",
    "        print(100* (i/N),\"% done\")\n",
    "    i+=1"
   ]
  },
  {
   "cell_type": "code",
   "execution_count": 7,
   "id": "171e5aa3",
   "metadata": {},
   "outputs": [],
   "source": [
    "N = 3000"
   ]
  },
  {
   "cell_type": "code",
   "execution_count": 16,
   "id": "962ec01f",
   "metadata": {},
   "outputs": [
    {
     "data": {
      "text/plain": [
       "array([[ 0.00000000e+00,  5.97813023e-05,  2.36498417e-04, ...,\n",
       "         6.36328708e-02,  6.37764111e-02,  6.36291130e-02],\n",
       "       [ 0.00000000e+00, -5.06059574e-06,  7.12788565e-05, ...,\n",
       "        -5.29573814e-02, -5.32413417e-02, -5.33248310e-02],\n",
       "       [ 0.00000000e+00,  8.75860117e-05,  1.71994573e-04, ...,\n",
       "         5.79313010e-02,  5.77082199e-02,  5.77265005e-02],\n",
       "       ...,\n",
       "       [ 0.00000000e+00,  4.65324882e-05, -6.37233329e-05, ...,\n",
       "        -1.71798130e-02, -1.73697064e-02, -1.71431773e-02],\n",
       "       [ 0.00000000e+00,  4.90722161e-05,  9.56764099e-08, ...,\n",
       "         9.40750394e-02,  9.41077011e-02,  9.40280878e-02],\n",
       "       [ 0.00000000e+00,  4.35177882e-05,  1.68206789e-04, ...,\n",
       "         5.59080978e-02,  5.59129517e-02,  5.62641317e-02]])"
      ]
     },
     "execution_count": 16,
     "metadata": {},
     "output_type": "execute_result"
    }
   ],
   "source": [
    "new_all_growth = all_growth[0:3000]\n",
    "new_all_growth\n",
    "new_all_usage = all_usage[0:3000]\n",
    "new_all_usage"
   ]
  },
  {
   "cell_type": "code",
   "execution_count": null,
   "id": "3ff41eeb",
   "metadata": {},
   "outputs": [],
   "source": []
  },
  {
   "cell_type": "code",
   "execution_count": 17,
   "id": "64367bd5",
   "metadata": {
    "scrolled": true
   },
   "outputs": [
    {
     "name": "stdout",
     "output_type": "stream",
     "text": [
      "0.0\n",
      "0.01141552511415525\n",
      "0.0228310502283105\n",
      "0.03424657534246575\n",
      "0.045662100456621\n",
      "0.05707762557077625\n",
      "0.0684931506849315\n",
      "0.07990867579908675\n",
      "0.091324200913242\n",
      "0.10273972602739725\n",
      "0.1141552511415525\n",
      "0.12557077625570776\n",
      "0.136986301369863\n",
      "0.14840182648401826\n",
      "0.1598173515981735\n",
      "0.17123287671232876\n",
      "0.182648401826484\n",
      "0.19406392694063926\n",
      "0.2054794520547945\n",
      "0.21689497716894976\n",
      "0.228310502283105\n",
      "0.23972602739726026\n",
      "0.2511415525114155\n",
      "0.2625570776255708\n",
      "0.273972602739726\n",
      "0.2853881278538813\n",
      "0.2968036529680365\n",
      "0.3082191780821918\n",
      "0.319634703196347\n",
      "0.3310502283105023\n",
      "0.3424657534246575\n",
      "0.3538812785388128\n",
      "0.365296803652968\n",
      "0.3767123287671233\n",
      "0.3881278538812785\n",
      "0.3995433789954338\n",
      "0.410958904109589\n",
      "0.4223744292237443\n",
      "0.4337899543378995\n",
      "0.4452054794520548\n",
      "0.45662100456621\n",
      "0.4680365296803653\n",
      "0.4794520547945205\n",
      "0.4908675799086758\n",
      "0.502283105022831\n",
      "0.5136986301369864\n",
      "0.5251141552511416\n",
      "0.5365296803652968\n",
      "0.547945205479452\n",
      "0.5593607305936074\n",
      "0.5707762557077626\n",
      "0.5821917808219178\n",
      "0.593607305936073\n",
      "0.6050228310502284\n",
      "0.6164383561643836\n",
      "0.6278538812785388\n",
      "0.639269406392694\n",
      "0.6506849315068494\n",
      "0.6621004566210046\n",
      "0.6735159817351598\n",
      "0.684931506849315\n",
      "0.6963470319634704\n",
      "0.7077625570776256\n",
      "0.7191780821917808\n",
      "0.730593607305936\n",
      "0.7420091324200914\n",
      "0.7534246575342466\n",
      "0.7648401826484018\n",
      "0.776255707762557\n",
      "0.7876712328767124\n",
      "0.7990867579908676\n",
      "0.8105022831050228\n",
      "0.821917808219178\n",
      "0.8333333333333334\n",
      "0.8447488584474886\n",
      "0.8561643835616438\n",
      "0.867579908675799\n",
      "0.8789954337899544\n",
      "0.8904109589041096\n",
      "0.9018264840182648\n",
      "0.91324200913242\n",
      "0.9246575342465754\n",
      "0.9360730593607306\n",
      "0.9474885844748858\n",
      "0.958904109589041\n",
      "0.9703196347031964\n",
      "0.9817351598173516\n",
      "0.9931506849315068\n"
     ]
    }
   ],
   "source": [
    "### Analysis of the results;\n",
    "t = 0\n",
    "growth_avg = np.zeros(T)\n",
    "growth_upper = np.zeros(T)\n",
    "growth_lower = np.zeros(T)\n",
    "growth_max = np.zeros(T)\n",
    "growth_min = np.zeros(T)\n",
    "\n",
    "hype_avg = np.zeros(T)\n",
    "hype_upper = np.zeros(T)\n",
    "hype_lower = np.zeros(T)\n",
    "hype_max = np.zeros(T)\n",
    "hype_min = np.zeros(T)\n",
    "\n",
    "while t<T:\n",
    "    growth_avg[t] = np.mean(new_all_growth[:,t])\n",
    "    growth_upper[t] = np.sort(new_all_growth[:,t])[int(round(0.975 * N,0))]\n",
    "    growth_lower[t] = np.sort(new_all_growth[:,t])[int(round(0.025 * N,0))]\n",
    "    growth_max[t] = max(new_all_growth[:,t])\n",
    "    growth_min[t] = min(new_all_growth[:,t])\n",
    "\n",
    "    hype_avg[t] = np.mean(all_usage[:,t])\n",
    "    hype_upper[t] = np.sort(all_usage[:,t])[int(round(0.975 * N,0))]\n",
    "    hype_lower[t] = np.sort(all_usage[:,t])[int(round(0.025 * N,0))]\n",
    "    hype_max[t] = max(all_usage[:,t])\n",
    "    hype_min[t] = min(all_usage[:,t])\n",
    "    \n",
    "    if t%1000==0:\n",
    "        print(t/T)\n",
    "    \n",
    "    t+=1"
   ]
  },
  {
   "cell_type": "code",
   "execution_count": 27,
   "id": "b921604a",
   "metadata": {},
   "outputs": [
    {
     "data": {
      "image/png": "[encoded data removed]",
      "text/plain": [
       "<Figure size 432x288 with 1 Axes>"
      ]
     },
     "metadata": {
      "needs_background": "light"
     },
     "output_type": "display_data"
    }
   ],
   "source": [
    "\n",
    "# Define data values\n",
    "x = range(0,T)\n",
    "\n",
    "\n",
    "# Plot a simple line chart\n",
    "plt.plot(x, growth_avg,color =\"b\")\n",
    "# Plot lower confidence interval\n",
    "plt.plot(x, growth_lower,color =\"r\")\n",
    "# Plot upper confidence interval\n",
    "plt.plot(x, growth_upper,color =\"r\")\n",
    "plt.legend([\"Average growth\",\"Lower bound\",\"Upper bound\"],loc = \"upper left\")\n",
    "labels = [0,1, 2, 3, 4, 5, 6,7,8,9,10]\n",
    "# naming the x axis\n",
    "plt.xlabel(\"Time (year)\")\n",
    "plt.ylabel(\"Return\")\n",
    "plt.title(\"Average growth over time\")\n",
    "x = [0,T/10, T/5, (3/10)*T, (4/10)*T,(5/10)*T,(6/10)*T,(7/10)*T,(8/10)*T,(9/10)*T,T]\n",
    "plt.xticks(x,labels)\n",
    "# naming the y axis\n",
    "plt.show()\n"
   ]
  },
  {
   "cell_type": "code",
   "execution_count": 31,
   "id": "fda30bd4",
   "metadata": {},
   "outputs": [
    {
     "data": {
      "image/png": "[encoded data removed]",
      "text/plain": [
       "<Figure size 432x288 with 1 Axes>"
      ]
     },
     "metadata": {
      "needs_background": "light"
     },
     "output_type": "display_data"
    }
   ],
   "source": [
    "\n",
    "# Define data values\n",
    "x = range(0,T)\n",
    "\n",
    "fig = plt.figure()\n",
    "# naming the title of the plot\n",
    "\n",
    "ax1 = fig.add_axes([0, 0, 2, 2])\n",
    "\n",
    "# Plot a simple line chart\n",
    "ax1.plot(x, growth_avg,color =\"b\")\n",
    "#plt.plot(x, growth_avg,color =\"b\")\n",
    "# Plot lower confidence interval\n",
    "ax1.plot(x, growth_lower,color =\"r\")\n",
    "ax1.plot(x, growth_upper,color =\"r\")\n",
    "\n",
    "plt.legend([\"Average growth\",\"Lower bound\",\"Upper bound\"],loc = \"upper left\")\n",
    "labels = [0,1, 2, 3, 4, 5, 6,7,8,9,10]\n",
    "# naming the x axis\n",
    "plt.xlabel(\"Time (year)\")\n",
    "plt.ylabel(\"Return\")\n",
    "plt.title(\"Average growth over time\")\n",
    "x = [0,T/10, T/5, (3/10)*T, (4/10)*T,(5/10)*T,(6/10)*T,(7/10)*T,(8/10)*T,(9/10)*T,T]\n",
    "plt.xticks(x,labels)\n",
    "# naming the y axis\n",
    "plt.show()\n"
   ]
  },
  {
   "cell_type": "code",
   "execution_count": 19,
   "id": "e1a6d63b",
   "metadata": {},
   "outputs": [
    {
     "data": {
      "image/png": "[encoded data removed]",
      "text/plain": [
       "<Figure size 432x288 with 1 Axes>"
      ]
     },
     "metadata": {
      "needs_background": "light"
     },
     "output_type": "display_data"
    }
   ],
   "source": [
    "\n",
    "# Define data values\n",
    "x = range(0,T)\n",
    "\n",
    "\n",
    "# Plot a simple line chart\n",
    "plt.plot(x, hype_avg,color =\"b\")\n",
    "\n",
    "# Plot lower confidence interval\n",
    "plt.plot(x, hype_lower,color =\"r\")\n",
    "# Plot upper confidence interval\n",
    "plt.plot(x, hype_upper,color =\"r\")\n",
    "plt.legend([\"Average growth\",\"Lower bound\",\"Upper bound\"],loc = \"upper left\")\n",
    "labels = [0,1, 2, 3, 4, 5, 6,7,8,9,10]\n",
    "# naming the x axis\n",
    "plt.xlabel(\"Time (year)\")\n",
    "plt.ylabel(\"Return\")\n",
    "plt.title(\"Average growth over time\")\n",
    "x = [0,T/10, T/5, (3/10)*T, (4/10)*T,(5/10)*T,(6/10)*T,(7/10)*T,(8/10)*T,(9/10)*T,T]\n",
    "plt.xticks(x,labels)\n",
    "# naming the y axis\n",
    "plt.show()\n"
   ]
  },
  {
   "cell_type": "code",
   "execution_count": null,
   "id": "f77684d0",
   "metadata": {},
   "outputs": [],
   "source": []
  },
  {
   "cell_type": "code",
   "execution_count": 20,
   "id": "6f19c326",
   "metadata": {},
   "outputs": [
    {
     "data": {
      "text/plain": [
       "array([25000000.        , 24996893.09833287, 24994203.33423293, ...,\n",
       "       37139154.01896615, 37133254.38395911, 37131144.41546823])"
      ]
     },
     "execution_count": 20,
     "metadata": {},
     "output_type": "execute_result"
    }
   ],
   "source": [
    "growth_lower"
   ]
  },
  {
   "cell_type": "code",
   "execution_count": null,
   "id": "7381d83f",
   "metadata": {},
   "outputs": [],
   "source": []
  },
  {
   "cell_type": "code",
   "execution_count": 21,
   "id": "047c2bde",
   "metadata": {},
   "outputs": [
    {
     "data": {
      "text/plain": [
       "array([2.50000000e+07, 2.49983302e+07, 2.49988669e+07, ...,\n",
       "       3.87486086e+12, 3.87522091e+12, 3.87605648e+12])"
      ]
     },
     "execution_count": 21,
     "metadata": {},
     "output_type": "execute_result"
    }
   ],
   "source": [
    "growth_upper"
   ]
  },
  {
   "cell_type": "code",
   "execution_count": 32,
   "id": "dc23087d",
   "metadata": {},
   "outputs": [
    {
     "data": {
      "text/plain": [
       "2293719371.741254"
      ]
     },
     "execution_count": 32,
     "metadata": {},
     "output_type": "execute_result"
    }
   ],
   "source": [
    "growth_avg[int(len(growth_avg)/2)]"
   ]
  },
  {
   "cell_type": "code",
   "execution_count": 22,
   "id": "5666f4b9",
   "metadata": {},
   "outputs": [
    {
     "data": {
      "text/plain": [
       "array([2.50000000e+07, 2.49975923e+07, 2.49964928e+07, ...,\n",
       "       1.00377530e+12, 1.00393110e+12, 1.00410546e+12])"
      ]
     },
     "execution_count": 22,
     "metadata": {},
     "output_type": "execute_result"
    }
   ],
   "source": [
    "growth_avg"
   ]
  },
  {
   "cell_type": "code",
   "execution_count": null,
   "id": "afb4d599",
   "metadata": {},
   "outputs": [],
   "source": []
  },
  {
   "cell_type": "code",
   "execution_count": 14,
   "id": "f99a9711",
   "metadata": {},
   "outputs": [
    {
     "data": {
      "text/plain": [
       "array([2.50000000e+07, 2.49974591e+07, 2.49976086e+07, ...,\n",
       "       3.10782651e+13, 3.10896982e+13, 3.10971093e+13])"
      ]
     },
     "execution_count": 14,
     "metadata": {},
     "output_type": "execute_result"
    }
   ],
   "source": [
    "all_growth[1700]"
   ]
  },
  {
   "cell_type": "code",
   "execution_count": null,
   "id": "1cfd77a4",
   "metadata": {},
   "outputs": [],
   "source": []
  },
  {
   "cell_type": "code",
   "execution_count": null,
   "id": "582c4816",
   "metadata": {},
   "outputs": [],
   "source": []
  },
  {
   "cell_type": "code",
   "execution_count": null,
   "id": "0c56783e",
   "metadata": {},
   "outputs": [],
   "source": []
  }
 ],
 "metadata": {
  "kernelspec": {
   "display_name": "Python 3 (ipykernel)",
   "language": "python",
   "name": "python3"
  },
  "language_info": {
   "codemirror_mode": {
    "name": "ipython",
    "version": 3
   },
   "file_extension": ".py",
   "mimetype": "text/x-python",
   "name": "python",
   "nbconvert_exporter": "python",
   "pygments_lexer": "ipython3",
   "version": "3.9.12"
  }
 },
 "nbformat": 4,
 "nbformat_minor": 5
}
