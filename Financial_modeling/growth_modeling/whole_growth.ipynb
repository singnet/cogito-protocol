{
 "cells": [
  {
   "cell_type": "code",
   "execution_count": null,
   "id": "7cd6eacf",
   "metadata": {},
   "outputs": [],
   "source": []
  },
  {
   "cell_type": "code",
   "execution_count": 1,
   "id": "6127e38f",
   "metadata": {},
   "outputs": [],
   "source": [
    "from simulate_returns import * \n",
    "import numpy as np\n",
    "import matplotlib.pyplot as plt\n",
    "import math\n",
    "from helper_growth import * "
   ]
  },
  {
   "cell_type": "code",
   "execution_count": null,
   "id": "077c8175",
   "metadata": {},
   "outputs": [],
   "source": []
  },
  {
   "cell_type": "code",
   "execution_count": 2,
   "id": "f9ce4aa5",
   "metadata": {},
   "outputs": [],
   "source": [
    "with open('all_returns_moderate.npy', 'rb') as f:\n",
    "    all_returns = np.load(f)\n",
    "with open('all_market_time_moderate.npy', 'rb') as f:\n",
    "    all_market_time = np.load(f)\n",
    "with open('all_market_sentiment_moderate.npy', 'rb') as f:\n",
    "    all_market_sentiment = np.load(f)\n",
    "with open('all_b_value_moderate.npy', 'rb') as f:\n",
    "    all_b_value = np.load(f)\n",
    "with open('all_r_t_moderate.npy', 'rb') as f:\n",
    "    all_r_t = np.load(f)\n",
    "with open('all_default_prob_moderate.npy', 'rb') as f:\n",
    "    all_default = np.load(f)\n",
    "\n",
    "    "
   ]
  },
  {
   "cell_type": "code",
   "execution_count": null,
   "id": "13103517",
   "metadata": {},
   "outputs": [],
   "source": []
  },
  {
   "cell_type": "code",
   "execution_count": null,
   "id": "dedfc388",
   "metadata": {},
   "outputs": [],
   "source": []
  },
  {
   "cell_type": "code",
   "execution_count": 3,
   "id": "66c4e487",
   "metadata": {
    "scrolled": true
   },
   "outputs": [
    {
     "name": "stdout",
     "output_type": "stream",
     "text": [
      "0.0 % done\n",
      "1.0 % done\n",
      "2.0 % done\n",
      "3.0 % done\n",
      "4.0 % done\n",
      "5.0 % done\n",
      "6.0 % done\n",
      "7.000000000000001 % done\n",
      "8.0 % done\n",
      "9.0 % done\n",
      "10.0 % done\n",
      "11.0 % done\n",
      "12.0 % done\n",
      "13.0 % done\n",
      "14.000000000000002 % done\n",
      "15.0 % done\n",
      "16.0 % done\n",
      "17.0 % done\n",
      "18.0 % done\n",
      "19.0 % done\n",
      "20.0 % done\n",
      "21.0 % done\n",
      "22.0 % done\n",
      "23.0 % done\n",
      "24.0 % done\n",
      "25.0 % done\n",
      "26.0 % done\n",
      "27.0 % done\n",
      "28.000000000000004 % done\n",
      "28.999999999999996 % done\n",
      "30.0 % done\n",
      "31.0 % done\n",
      "32.0 % done\n",
      "33.0 % done\n",
      "34.0 % done\n",
      "35.0 % done\n",
      "36.0 % done\n",
      "37.0 % done\n",
      "38.0 % done\n",
      "39.0 % done\n",
      "40.0 % done\n",
      "41.0 % done\n",
      "42.0 % done\n",
      "43.0 % done\n",
      "44.0 % done\n",
      "45.0 % done\n",
      "46.0 % done\n",
      "47.0 % done\n",
      "48.0 % done\n",
      "49.0 % done\n",
      "50.0 % done\n",
      "51.0 % done\n",
      "52.0 % done\n",
      "53.0 % done\n",
      "54.0 % done\n",
      "55.00000000000001 % done\n",
      "56.00000000000001 % done\n",
      "56.99999999999999 % done\n",
      "57.99999999999999 % done\n",
      "59.0 % done\n",
      "60.0 % done\n",
      "61.0 % done\n",
      "62.0 % done\n",
      "63.0 % done\n",
      "64.0 % done\n",
      "65.0 % done\n",
      "66.0 % done\n",
      "67.0 % done\n",
      "68.0 % done\n",
      "69.0 % done\n",
      "70.0 % done\n",
      "71.0 % done\n",
      "72.0 % done\n",
      "73.0 % done\n",
      "74.0 % done\n",
      "75.0 % done\n",
      "76.0 % done\n",
      "77.0 % done\n",
      "78.0 % done\n",
      "79.0 % done\n",
      "80.0 % done\n",
      "81.0 % done\n",
      "82.0 % done\n",
      "83.0 % done\n",
      "84.0 % done\n",
      "85.0 % done\n",
      "86.0 % done\n",
      "87.0 % done\n",
      "88.0 % done\n",
      "89.0 % done\n",
      "90.0 % done\n",
      "91.0 % done\n",
      "92.0 % done\n",
      "93.0 % done\n",
      "94.0 % done\n",
      "95.0 % done\n",
      "96.0 % done\n",
      "97.0 % done\n",
      "98.0 % done\n",
      "99.0 % done\n"
     ]
    }
   ],
   "source": [
    "### Here we make 10.000 simulations of our returns and then make simple statistics out of them:\n",
    "i = 0\n",
    "N=10000\n",
    "T = 24*365*5\n",
    "all_growth = np.zeros((N, T))\n",
    "all_usage = np.zeros((N, T))\n",
    "\n",
    "index_growth, index_sim, price = simulate_index(N=N)\n",
    "\n",
    "while i<N:\n",
    "    all_usage[i] = usage_sim(sigma_usage=1)\n",
    "    #market_time,market_sentiment,b_value,r_t,default_prob,returns = sim_returns(starting_b_value = 0.03,low_bound_b = 0.03,upper_bound_b = 0.05,ltr_vol_std = 0.1, probability_of_default = 0.02, ltr_default_prob = 0.005 , starting_staking_rate = 0.03, r_t_sigma = 0.025 , sigma_market_time = 2 , max_prob = 0.4)\n",
    "    all_growth[i] = network_growth(all_market_sentiment[i],all_r_t[i], deposit_rate = all_r_t[i], CAR  = 0.98,usage_growth = all_usage[i], stakers_share = np.zeros(int(T*10)) + .15,index_appreciation = index_growth[i])\n",
    "    \n",
    "    if i%100==0:\n",
    "        print(100* (i/N),\"% done\")\n",
    "    i+=1"
   ]
  },
  {
   "cell_type": "code",
   "execution_count": 5,
   "id": "64367bd5",
   "metadata": {
    "scrolled": true
   },
   "outputs": [
    {
     "name": "stdout",
     "output_type": "stream",
     "text": [
      "0.0\n",
      "0.0228310502283105\n",
      "0.045662100456621\n",
      "0.0684931506849315\n",
      "0.091324200913242\n",
      "0.1141552511415525\n",
      "0.136986301369863\n",
      "0.1598173515981735\n",
      "0.182648401826484\n",
      "0.2054794520547945\n",
      "0.228310502283105\n",
      "0.2511415525114155\n",
      "0.273972602739726\n",
      "0.2968036529680365\n",
      "0.319634703196347\n",
      "0.3424657534246575\n",
      "0.365296803652968\n",
      "0.3881278538812785\n",
      "0.410958904109589\n",
      "0.4337899543378995\n",
      "0.45662100456621\n",
      "0.4794520547945205\n",
      "0.502283105022831\n",
      "0.5251141552511416\n",
      "0.547945205479452\n",
      "0.5707762557077626\n",
      "0.593607305936073\n",
      "0.6164383561643836\n",
      "0.639269406392694\n",
      "0.6621004566210046\n",
      "0.684931506849315\n",
      "0.7077625570776256\n",
      "0.730593607305936\n",
      "0.7534246575342466\n",
      "0.776255707762557\n",
      "0.7990867579908676\n",
      "0.821917808219178\n",
      "0.8447488584474886\n",
      "0.867579908675799\n",
      "0.8904109589041096\n",
      "0.91324200913242\n",
      "0.9360730593607306\n",
      "0.958904109589041\n",
      "0.9817351598173516\n"
     ]
    }
   ],
   "source": [
    "### Analysis of the results;\n",
    "t = 0\n",
    "growth_avg = np.zeros(T)\n",
    "growth_upper = np.zeros(T)\n",
    "growth_lower = np.zeros(T)\n",
    "growth_max = np.zeros(T)\n",
    "growth_min = np.zeros(T)\n",
    "\n",
    "hype_avg = np.zeros(T)\n",
    "hype_upper = np.zeros(T)\n",
    "hype_lower = np.zeros(T)\n",
    "hype_max = np.zeros(T)\n",
    "hype_min = np.zeros(T)\n",
    "\n",
    "while t<T:\n",
    "    growth_avg[t] = np.mean(all_growth[:,t])\n",
    "    growth_upper[t] = np.sort(all_growth[:,t])[int(round(0.975 * N,0))]\n",
    "    growth_lower[t] = np.sort(all_growth[:,t])[int(round(0.025 * N,0))]\n",
    "    growth_max[t] = max(all_growth[:,t])\n",
    "    growth_min[t] = min(all_growth[:,t])\n",
    "\n",
    "    hype_avg[t] = np.mean(all_usage[:,t])\n",
    "    hype_upper[t] = np.sort(all_usage[:,t])[int(round(0.975 * N,0))]\n",
    "    hype_lower[t] = np.sort(all_usage[:,t])[int(round(0.025 * N,0))]\n",
    "    hype_max[t] = max(all_usage[:,t])\n",
    "    hype_min[t] = min(all_usage[:,t])\n",
    "    \n",
    "    if t%1000==0:\n",
    "        print(t/T)\n",
    "    \n",
    "    t+=1"
   ]
  },
  {
   "cell_type": "code",
   "execution_count": 14,
   "id": "b921604a",
   "metadata": {},
   "outputs": [
    {
     "data": {
      "image/png": "[encoded data removed]",
      "text/plain": [
       "<Figure size 432x288 with 1 Axes>"
      ]
     },
     "metadata": {
      "needs_background": "light"
     },
     "output_type": "display_data"
    }
   ],
   "source": [
    "\n",
    "# Define data values\n",
    "x = range(0,T)\n",
    "\n",
    "\n",
    "# Plot a simple line chart\n",
    "plt.plot(x, growth_avg,color =\"b\")\n",
    "# Plot lower confidence interval\n",
    "plt.plot(x, growth_lower,color =\"r\")\n",
    "# Plot upper confidence interval\n",
    "plt.plot(x, growth_upper,color =\"r\")\n",
    "plt.legend([\"Average growth\",\"Lower bound\",\"Upper bound\"],loc = \"upper left\")\n",
    "labels = [0,.5, 1, 1.5, 2, 2.5, 3,3.5,4,4.5,5]\n",
    "# naming the x axis\n",
    "plt.xlabel(\"Time (year)\")\n",
    "plt.ylabel(\"Return\")\n",
    "plt.title(\"Average growth over time\")\n",
    "x = [0,T/10, T/5, (3/10)*T, (4/10)*T,(5/10)*T,(6/10)*T,(7/10)*T,(8/10)*T,(9/10)*T,T]\n",
    "plt.xticks(x,labels)\n",
    "# naming the y axis\n",
    "plt.show()\n"
   ]
  },
  {
   "cell_type": "code",
   "execution_count": 15,
   "id": "0e15c329",
   "metadata": {},
   "outputs": [
    {
     "data": {
      "image/png": "[encoded data removed]",
      "text/plain": [
       "<Figure size 432x288 with 1 Axes>"
      ]
     },
     "metadata": {
      "needs_background": "light"
     },
     "output_type": "display_data"
    }
   ],
   "source": [
    "\n",
    "# Define data values\n",
    "x = range(0,T)\n",
    "\n",
    "fig = plt.figure()\n",
    "# naming the title of the plot\n",
    "\n",
    "ax1 = fig.add_axes([0, 0, 2, 2])\n",
    "\n",
    "# Plot a simple line chart\n",
    "ax1.plot(x, growth_avg,color =\"b\")\n",
    "#plt.plot(x, growth_avg,color =\"b\")\n",
    "# Plot lower confidence interval\n",
    "ax1.plot(x, growth_lower,color =\"r\")\n",
    "ax1.plot(x, growth_upper,color =\"r\")\n",
    "\n",
    "plt.legend([\"Average growth\",\"Lower bound\",\"Upper bound\"],loc = \"upper left\")\n",
    "labels = [0,.5, 1, 1.5, 2, 2.5, 3,3.5,4,4.5,5]\n",
    "# naming the x axis\n",
    "plt.xlabel(\"Time (year)\")\n",
    "plt.ylabel(\"Return\")\n",
    "plt.title(\"Average growth over time\")\n",
    "x = [0,T/10, T/5, (3/10)*T, (4/10)*T,(5/10)*T,(6/10)*T,(7/10)*T,(8/10)*T,(9/10)*T,T]\n",
    "plt.xticks(x,labels)\n",
    "# naming the y axis\n",
    "plt.show()\n"
   ]
  },
  {
   "cell_type": "code",
   "execution_count": 16,
   "id": "e1a6d63b",
   "metadata": {},
   "outputs": [
    {
     "data": {
      "image/png": "[encoded data removed]",
      "text/plain": [
       "<Figure size 432x288 with 1 Axes>"
      ]
     },
     "metadata": {
      "needs_background": "light"
     },
     "output_type": "display_data"
    }
   ],
   "source": [
    "\n",
    "# Define data values\n",
    "x = range(0,T)\n",
    "\n",
    "\n",
    "# Plot a simple line chart\n",
    "plt.plot(x, hype_avg,color =\"b\")\n",
    "\n",
    "# Plot lower confidence interval\n",
    "plt.plot(x, hype_lower,color =\"r\")\n",
    "# Plot upper confidence interval\n",
    "plt.plot(x, hype_upper,color =\"r\")\n",
    "plt.legend([\"Average growth\",\"Lower bound\",\"Upper bound\"],loc = \"upper left\")\n",
    "labels = [0,.5, 1, 1.5, 2, 2.5, 3,3.5,4,4.5,5]\n",
    "# naming the x axis\n",
    "plt.xlabel(\"Time (year)\")\n",
    "plt.ylabel(\"Return\")\n",
    "plt.title(\"Average growth over time\")\n",
    "x = [0,T/10, T/5, (3/10)*T, (4/10)*T,(5/10)*T,(6/10)*T,(7/10)*T,(8/10)*T,(9/10)*T,T]\n",
    "plt.xticks(x,labels)\n",
    "# naming the y axis\n",
    "plt.show()\n"
   ]
  },
  {
   "cell_type": "code",
   "execution_count": null,
   "id": "f77684d0",
   "metadata": {},
   "outputs": [],
   "source": []
  },
  {
   "cell_type": "code",
   "execution_count": null,
   "id": "da83d3bf",
   "metadata": {},
   "outputs": [],
   "source": []
  },
  {
   "cell_type": "code",
   "execution_count": 9,
   "id": "2e65bb8c",
   "metadata": {},
   "outputs": [
    {
     "data": {
      "text/plain": [
       "array([2.49859723e+07, 2.49846902e+07, 2.49840805e+07, ...,\n",
       "       2.35278324e+08, 2.35296466e+08, 2.35314535e+08])"
      ]
     },
     "execution_count": 9,
     "metadata": {},
     "output_type": "execute_result"
    }
   ],
   "source": [
    "growth_avg"
   ]
  },
  {
   "cell_type": "code",
   "execution_count": null,
   "id": "06db15d0",
   "metadata": {},
   "outputs": [],
   "source": []
  },
  {
   "cell_type": "code",
   "execution_count": 17,
   "id": "6f19c326",
   "metadata": {},
   "outputs": [
    {
     "data": {
      "text/plain": [
       "array([20245214.48510834, 20244004.40340669, 20244129.3048477 , ...,\n",
       "       12548203.69096377, 12548469.41571479, 12548860.20209939])"
      ]
     },
     "execution_count": 17,
     "metadata": {},
     "output_type": "execute_result"
    }
   ],
   "source": [
    "growth_lower"
   ]
  },
  {
   "cell_type": "code",
   "execution_count": null,
   "id": "a596bb6e",
   "metadata": {},
   "outputs": [],
   "source": []
  },
  {
   "cell_type": "code",
   "execution_count": null,
   "id": "bb2ac40a",
   "metadata": {},
   "outputs": [],
   "source": []
  },
  {
   "cell_type": "code",
   "execution_count": null,
   "id": "582c4816",
   "metadata": {},
   "outputs": [],
   "source": [
    "with open('all_growth.npy', 'wb') as f:\n",
    "    np.save(f, all_growth)\n",
    "with open('all_hype.npy', 'wb') as f:\n",
    "    np.save(f, all_usage)"
   ]
  },
  {
   "cell_type": "code",
   "execution_count": null,
   "id": "0c56783e",
   "metadata": {},
   "outputs": [],
   "source": []
  }
 ],
 "metadata": {
  "kernelspec": {
   "display_name": "Python 3",
   "language": "python",
   "name": "python3"
  },
  "language_info": {
   "codemirror_mode": {
    "name": "ipython",
    "version": 3
   },
   "file_extension": ".py",
   "mimetype": "text/x-python",
   "name": "python",
   "nbconvert_exporter": "python",
   "pygments_lexer": "ipython3",
   "version": "3.8.10"
  }
 },
 "nbformat": 4,
 "nbformat_minor": 5
}
